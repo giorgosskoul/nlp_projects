{
  "nbformat": 4,
  "nbformat_minor": 0,
  "metadata": {
    "colab": {
      "provenance": [],
      "mount_file_id": "11PiNHyBQVeNJ6PO0og9icPMVklFE7Bd-",
      "authorship_tag": "ABX9TyNu7i28i44D4R9L1d6gBdW2"
    },
    "kernelspec": {
      "name": "python3",
      "display_name": "Python 3"
    },
    "language_info": {
      "name": "python"
    }
  },
  "cells": [
    {
      "cell_type": "markdown",
      "source": [
        "Import Libraries"
      ],
      "metadata": {
        "id": "lYY56mpQDe0s"
      }
    },
    {
      "cell_type": "code",
      "execution_count": 30,
      "metadata": {
        "id": "sggkDPzHFL_V"
      },
      "outputs": [],
      "source": [
        "import pandas as pd\n",
        "import os\n",
        "import numpy as np\n",
        "import textwrap\n",
        "import nltk\n",
        "from nltk.corpus import stopwords\n",
        "import matplotlib.pyplot as plt"
      ]
    },
    {
      "cell_type": "code",
      "source": [
        "nltk.download('punkt')\n",
        "nltk.download('stopwords')"
      ],
      "metadata": {
        "colab": {
          "base_uri": "https://localhost:8080/"
        },
        "id": "YZkhmCF2FPmc",
        "outputId": "e1bb5e60-6b27-490b-de74-03acf34aeb00"
      },
      "execution_count": 2,
      "outputs": [
        {
          "output_type": "stream",
          "name": "stderr",
          "text": [
            "[nltk_data] Downloading package punkt to /root/nltk_data...\n",
            "[nltk_data]   Unzipping tokenizers/punkt.zip.\n",
            "[nltk_data] Downloading package stopwords to /root/nltk_data...\n",
            "[nltk_data]   Unzipping corpora/stopwords.zip.\n"
          ]
        },
        {
          "output_type": "execute_result",
          "data": {
            "text/plain": [
              "True"
            ]
          },
          "metadata": {},
          "execution_count": 2
        }
      ]
    },
    {
      "cell_type": "code",
      "source": [
        "!pip install sumy"
      ],
      "metadata": {
        "colab": {
          "base_uri": "https://localhost:8080/"
        },
        "id": "F0PqJCPDMF1D",
        "outputId": "72aaf349-63cf-40ae-9b17-3854f63dd90c"
      },
      "execution_count": 31,
      "outputs": [
        {
          "output_type": "stream",
          "name": "stdout",
          "text": [
            "Requirement already satisfied: sumy in /usr/local/lib/python3.10/dist-packages (0.11.0)\n",
            "Requirement already satisfied: docopt<0.7,>=0.6.1 in /usr/local/lib/python3.10/dist-packages (from sumy) (0.6.2)\n",
            "Requirement already satisfied: breadability>=0.1.20 in /usr/local/lib/python3.10/dist-packages (from sumy) (0.1.20)\n",
            "Requirement already satisfied: requests>=2.7.0 in /usr/local/lib/python3.10/dist-packages (from sumy) (2.31.0)\n",
            "Requirement already satisfied: pycountry>=18.2.23 in /usr/local/lib/python3.10/dist-packages (from sumy) (23.12.11)\n",
            "Requirement already satisfied: nltk>=3.0.2 in /usr/local/lib/python3.10/dist-packages (from sumy) (3.8.1)\n",
            "Requirement already satisfied: chardet in /usr/local/lib/python3.10/dist-packages (from breadability>=0.1.20->sumy) (5.2.0)\n",
            "Requirement already satisfied: lxml>=2.0 in /usr/local/lib/python3.10/dist-packages (from breadability>=0.1.20->sumy) (4.9.4)\n",
            "Requirement already satisfied: click in /usr/local/lib/python3.10/dist-packages (from nltk>=3.0.2->sumy) (8.1.7)\n",
            "Requirement already satisfied: joblib in /usr/local/lib/python3.10/dist-packages (from nltk>=3.0.2->sumy) (1.3.2)\n",
            "Requirement already satisfied: regex>=2021.8.3 in /usr/local/lib/python3.10/dist-packages (from nltk>=3.0.2->sumy) (2023.12.25)\n",
            "Requirement already satisfied: tqdm in /usr/local/lib/python3.10/dist-packages (from nltk>=3.0.2->sumy) (4.66.2)\n",
            "Requirement already satisfied: charset-normalizer<4,>=2 in /usr/local/lib/python3.10/dist-packages (from requests>=2.7.0->sumy) (3.3.2)\n",
            "Requirement already satisfied: idna<4,>=2.5 in /usr/local/lib/python3.10/dist-packages (from requests>=2.7.0->sumy) (3.6)\n",
            "Requirement already satisfied: urllib3<3,>=1.21.1 in /usr/local/lib/python3.10/dist-packages (from requests>=2.7.0->sumy) (2.0.7)\n",
            "Requirement already satisfied: certifi>=2017.4.17 in /usr/local/lib/python3.10/dist-packages (from requests>=2.7.0->sumy) (2024.2.2)\n"
          ]
        }
      ]
    },
    {
      "cell_type": "code",
      "source": [
        "from sumy.summarizers.text_rank import TextRankSummarizer\n",
        "from sumy.summarizers.lsa import LsaSummarizer\n",
        "from sumy.parsers.plaintext import PlaintextParser\n",
        "from sumy.nlp.tokenizers import Tokenizer"
      ],
      "metadata": {
        "id": "xm_lZ_rkMKVg"
      },
      "execution_count": 32,
      "outputs": []
    },
    {
      "cell_type": "markdown",
      "source": [
        "Utilize the (10)Dataset Text Document Classification and create a DataFrame containing the text column and label column"
      ],
      "metadata": {
        "id": "zONQweEjDqOA"
      }
    },
    {
      "cell_type": "code",
      "source": [
        "# /content/drive/MyDrive/(10)Dataset Text Document Classification\n",
        "\n",
        "\n",
        "# Define the root directory where your folders are located\n",
        "root_dir = '/content/drive/MyDrive/(10)Dataset Text Document Classification'\n",
        "\n",
        "# Initialize empty lists to store text and labels\n",
        "texts = []\n",
        "labels = []\n",
        "\n",
        "# Iterate through each folder in the root directory\n",
        "for folder in os.listdir(root_dir):\n",
        "    folder_path = os.path.join(root_dir, folder)\n",
        "\n",
        "    # Check if the item in the root directory is a folder\n",
        "    if os.path.isdir(folder_path):\n",
        "        # Iterate through each file in the folder\n",
        "        for file in os.listdir(folder_path):\n",
        "            file_path = os.path.join(folder_path, file)\n",
        "\n",
        "            # Read the content of the file\n",
        "            with open(file_path, 'r', encoding='utf-8') as f:\n",
        "                text = f.read()\n",
        "\n",
        "            # Append text and label to the lists\n",
        "            texts.append(text)\n",
        "            labels.append(folder)\n",
        "\n",
        "# Create pandas DataFrame\n",
        "df = pd.DataFrame({'text': texts, 'label': labels})"
      ],
      "metadata": {
        "id": "duGVjBmdGfZN"
      },
      "execution_count": 4,
      "outputs": []
    },
    {
      "cell_type": "code",
      "source": [
        "df.head()"
      ],
      "metadata": {
        "id": "ADOFgGVDk5us",
        "colab": {
          "base_uri": "https://localhost:8080/",
          "height": 206
        },
        "outputId": "7448ac7f-86ad-4589-c030-6dc718849484"
      },
      "execution_count": 33,
      "outputs": [
        {
          "output_type": "execute_result",
          "data": {
            "text/plain": [
              "                                                text  label\n",
              "0  Chepkemei hit by big ban\\n\\nKenya's athletics ...  sport\n",
              "1  El Guerrouj targets cross country\\n\\nDouble Ol...  sport\n",
              "2  Gebrselassie in London triple bid\\n\\nDouble Ol...  sport\n",
              "3  McIlroy continues winning streak\\n\\nJames McIl...  sport\n",
              "4  GB select Holmes for double bid\\n\\nKelly Holme...  sport"
            ],
            "text/html": [
              "\n",
              "  <div id=\"df-f47a890c-6419-4880-96b0-834333d366f5\" class=\"colab-df-container\">\n",
              "    <div>\n",
              "<style scoped>\n",
              "    .dataframe tbody tr th:only-of-type {\n",
              "        vertical-align: middle;\n",
              "    }\n",
              "\n",
              "    .dataframe tbody tr th {\n",
              "        vertical-align: top;\n",
              "    }\n",
              "\n",
              "    .dataframe thead th {\n",
              "        text-align: right;\n",
              "    }\n",
              "</style>\n",
              "<table border=\"1\" class=\"dataframe\">\n",
              "  <thead>\n",
              "    <tr style=\"text-align: right;\">\n",
              "      <th></th>\n",
              "      <th>text</th>\n",
              "      <th>label</th>\n",
              "    </tr>\n",
              "  </thead>\n",
              "  <tbody>\n",
              "    <tr>\n",
              "      <th>0</th>\n",
              "      <td>Chepkemei hit by big ban\\n\\nKenya's athletics ...</td>\n",
              "      <td>sport</td>\n",
              "    </tr>\n",
              "    <tr>\n",
              "      <th>1</th>\n",
              "      <td>El Guerrouj targets cross country\\n\\nDouble Ol...</td>\n",
              "      <td>sport</td>\n",
              "    </tr>\n",
              "    <tr>\n",
              "      <th>2</th>\n",
              "      <td>Gebrselassie in London triple bid\\n\\nDouble Ol...</td>\n",
              "      <td>sport</td>\n",
              "    </tr>\n",
              "    <tr>\n",
              "      <th>3</th>\n",
              "      <td>McIlroy continues winning streak\\n\\nJames McIl...</td>\n",
              "      <td>sport</td>\n",
              "    </tr>\n",
              "    <tr>\n",
              "      <th>4</th>\n",
              "      <td>GB select Holmes for double bid\\n\\nKelly Holme...</td>\n",
              "      <td>sport</td>\n",
              "    </tr>\n",
              "  </tbody>\n",
              "</table>\n",
              "</div>\n",
              "    <div class=\"colab-df-buttons\">\n",
              "\n",
              "  <div class=\"colab-df-container\">\n",
              "    <button class=\"colab-df-convert\" onclick=\"convertToInteractive('df-f47a890c-6419-4880-96b0-834333d366f5')\"\n",
              "            title=\"Convert this dataframe to an interactive table.\"\n",
              "            style=\"display:none;\">\n",
              "\n",
              "  <svg xmlns=\"http://www.w3.org/2000/svg\" height=\"24px\" viewBox=\"0 -960 960 960\">\n",
              "    <path d=\"M120-120v-720h720v720H120Zm60-500h600v-160H180v160Zm220 220h160v-160H400v160Zm0 220h160v-160H400v160ZM180-400h160v-160H180v160Zm440 0h160v-160H620v160ZM180-180h160v-160H180v160Zm440 0h160v-160H620v160Z\"/>\n",
              "  </svg>\n",
              "    </button>\n",
              "\n",
              "  <style>\n",
              "    .colab-df-container {\n",
              "      display:flex;\n",
              "      gap: 12px;\n",
              "    }\n",
              "\n",
              "    .colab-df-convert {\n",
              "      background-color: #E8F0FE;\n",
              "      border: none;\n",
              "      border-radius: 50%;\n",
              "      cursor: pointer;\n",
              "      display: none;\n",
              "      fill: #1967D2;\n",
              "      height: 32px;\n",
              "      padding: 0 0 0 0;\n",
              "      width: 32px;\n",
              "    }\n",
              "\n",
              "    .colab-df-convert:hover {\n",
              "      background-color: #E2EBFA;\n",
              "      box-shadow: 0px 1px 2px rgba(60, 64, 67, 0.3), 0px 1px 3px 1px rgba(60, 64, 67, 0.15);\n",
              "      fill: #174EA6;\n",
              "    }\n",
              "\n",
              "    .colab-df-buttons div {\n",
              "      margin-bottom: 4px;\n",
              "    }\n",
              "\n",
              "    [theme=dark] .colab-df-convert {\n",
              "      background-color: #3B4455;\n",
              "      fill: #D2E3FC;\n",
              "    }\n",
              "\n",
              "    [theme=dark] .colab-df-convert:hover {\n",
              "      background-color: #434B5C;\n",
              "      box-shadow: 0px 1px 3px 1px rgba(0, 0, 0, 0.15);\n",
              "      filter: drop-shadow(0px 1px 2px rgba(0, 0, 0, 0.3));\n",
              "      fill: #FFFFFF;\n",
              "    }\n",
              "  </style>\n",
              "\n",
              "    <script>\n",
              "      const buttonEl =\n",
              "        document.querySelector('#df-f47a890c-6419-4880-96b0-834333d366f5 button.colab-df-convert');\n",
              "      buttonEl.style.display =\n",
              "        google.colab.kernel.accessAllowed ? 'block' : 'none';\n",
              "\n",
              "      async function convertToInteractive(key) {\n",
              "        const element = document.querySelector('#df-f47a890c-6419-4880-96b0-834333d366f5');\n",
              "        const dataTable =\n",
              "          await google.colab.kernel.invokeFunction('convertToInteractive',\n",
              "                                                    [key], {});\n",
              "        if (!dataTable) return;\n",
              "\n",
              "        const docLinkHtml = 'Like what you see? Visit the ' +\n",
              "          '<a target=\"_blank\" href=https://colab.research.google.com/notebooks/data_table.ipynb>data table notebook</a>'\n",
              "          + ' to learn more about interactive tables.';\n",
              "        element.innerHTML = '';\n",
              "        dataTable['output_type'] = 'display_data';\n",
              "        await google.colab.output.renderOutput(dataTable, element);\n",
              "        const docLink = document.createElement('div');\n",
              "        docLink.innerHTML = docLinkHtml;\n",
              "        element.appendChild(docLink);\n",
              "      }\n",
              "    </script>\n",
              "  </div>\n",
              "\n",
              "\n",
              "<div id=\"df-6cf0f11a-46f3-4558-b1ab-0b93d14a0a43\">\n",
              "  <button class=\"colab-df-quickchart\" onclick=\"quickchart('df-6cf0f11a-46f3-4558-b1ab-0b93d14a0a43')\"\n",
              "            title=\"Suggest charts\"\n",
              "            style=\"display:none;\">\n",
              "\n",
              "<svg xmlns=\"http://www.w3.org/2000/svg\" height=\"24px\"viewBox=\"0 0 24 24\"\n",
              "     width=\"24px\">\n",
              "    <g>\n",
              "        <path d=\"M19 3H5c-1.1 0-2 .9-2 2v14c0 1.1.9 2 2 2h14c1.1 0 2-.9 2-2V5c0-1.1-.9-2-2-2zM9 17H7v-7h2v7zm4 0h-2V7h2v10zm4 0h-2v-4h2v4z\"/>\n",
              "    </g>\n",
              "</svg>\n",
              "  </button>\n",
              "\n",
              "<style>\n",
              "  .colab-df-quickchart {\n",
              "      --bg-color: #E8F0FE;\n",
              "      --fill-color: #1967D2;\n",
              "      --hover-bg-color: #E2EBFA;\n",
              "      --hover-fill-color: #174EA6;\n",
              "      --disabled-fill-color: #AAA;\n",
              "      --disabled-bg-color: #DDD;\n",
              "  }\n",
              "\n",
              "  [theme=dark] .colab-df-quickchart {\n",
              "      --bg-color: #3B4455;\n",
              "      --fill-color: #D2E3FC;\n",
              "      --hover-bg-color: #434B5C;\n",
              "      --hover-fill-color: #FFFFFF;\n",
              "      --disabled-bg-color: #3B4455;\n",
              "      --disabled-fill-color: #666;\n",
              "  }\n",
              "\n",
              "  .colab-df-quickchart {\n",
              "    background-color: var(--bg-color);\n",
              "    border: none;\n",
              "    border-radius: 50%;\n",
              "    cursor: pointer;\n",
              "    display: none;\n",
              "    fill: var(--fill-color);\n",
              "    height: 32px;\n",
              "    padding: 0;\n",
              "    width: 32px;\n",
              "  }\n",
              "\n",
              "  .colab-df-quickchart:hover {\n",
              "    background-color: var(--hover-bg-color);\n",
              "    box-shadow: 0 1px 2px rgba(60, 64, 67, 0.3), 0 1px 3px 1px rgba(60, 64, 67, 0.15);\n",
              "    fill: var(--button-hover-fill-color);\n",
              "  }\n",
              "\n",
              "  .colab-df-quickchart-complete:disabled,\n",
              "  .colab-df-quickchart-complete:disabled:hover {\n",
              "    background-color: var(--disabled-bg-color);\n",
              "    fill: var(--disabled-fill-color);\n",
              "    box-shadow: none;\n",
              "  }\n",
              "\n",
              "  .colab-df-spinner {\n",
              "    border: 2px solid var(--fill-color);\n",
              "    border-color: transparent;\n",
              "    border-bottom-color: var(--fill-color);\n",
              "    animation:\n",
              "      spin 1s steps(1) infinite;\n",
              "  }\n",
              "\n",
              "  @keyframes spin {\n",
              "    0% {\n",
              "      border-color: transparent;\n",
              "      border-bottom-color: var(--fill-color);\n",
              "      border-left-color: var(--fill-color);\n",
              "    }\n",
              "    20% {\n",
              "      border-color: transparent;\n",
              "      border-left-color: var(--fill-color);\n",
              "      border-top-color: var(--fill-color);\n",
              "    }\n",
              "    30% {\n",
              "      border-color: transparent;\n",
              "      border-left-color: var(--fill-color);\n",
              "      border-top-color: var(--fill-color);\n",
              "      border-right-color: var(--fill-color);\n",
              "    }\n",
              "    40% {\n",
              "      border-color: transparent;\n",
              "      border-right-color: var(--fill-color);\n",
              "      border-top-color: var(--fill-color);\n",
              "    }\n",
              "    60% {\n",
              "      border-color: transparent;\n",
              "      border-right-color: var(--fill-color);\n",
              "    }\n",
              "    80% {\n",
              "      border-color: transparent;\n",
              "      border-right-color: var(--fill-color);\n",
              "      border-bottom-color: var(--fill-color);\n",
              "    }\n",
              "    90% {\n",
              "      border-color: transparent;\n",
              "      border-bottom-color: var(--fill-color);\n",
              "    }\n",
              "  }\n",
              "</style>\n",
              "\n",
              "  <script>\n",
              "    async function quickchart(key) {\n",
              "      const quickchartButtonEl =\n",
              "        document.querySelector('#' + key + ' button');\n",
              "      quickchartButtonEl.disabled = true;  // To prevent multiple clicks.\n",
              "      quickchartButtonEl.classList.add('colab-df-spinner');\n",
              "      try {\n",
              "        const charts = await google.colab.kernel.invokeFunction(\n",
              "            'suggestCharts', [key], {});\n",
              "      } catch (error) {\n",
              "        console.error('Error during call to suggestCharts:', error);\n",
              "      }\n",
              "      quickchartButtonEl.classList.remove('colab-df-spinner');\n",
              "      quickchartButtonEl.classList.add('colab-df-quickchart-complete');\n",
              "    }\n",
              "    (() => {\n",
              "      let quickchartButtonEl =\n",
              "        document.querySelector('#df-6cf0f11a-46f3-4558-b1ab-0b93d14a0a43 button');\n",
              "      quickchartButtonEl.style.display =\n",
              "        google.colab.kernel.accessAllowed ? 'block' : 'none';\n",
              "    })();\n",
              "  </script>\n",
              "</div>\n",
              "    </div>\n",
              "  </div>\n"
            ],
            "application/vnd.google.colaboratory.intrinsic+json": {
              "type": "dataframe",
              "variable_name": "df",
              "summary": "{\n  \"name\": \"df\",\n  \"rows\": 1000,\n  \"fields\": [\n    {\n      \"column\": \"text\",\n      \"properties\": {\n        \"dtype\": \"string\",\n        \"num_unique_values\": 992,\n        \"samples\": [\n          \"Deutsche Boerse set to 'woo' LSE\\n\\nBosses of Deutsche Boerse and the London Stock Exchange are to meet amid talk that a takeover bid for the LSE will be raised to \\u00a31.5bn ($2.9bn).\\n\\nLast month, the German exchange tabled a 530 pence-per-share offer for LSE, valuing it at \\u00a31.3bn. Paris-based Euronext, owner of Liffe in London, has also said it is interested in bidding for LSE. Euronext is due to hold talks with LSE this week and it is reported to be ready to raise \\u00a31.4bn to fund a bid. Euronext chief Jean-Francois Theodore is scheduled to meet his LSE counterpart Clara Furse on Friday. Deutsche Boerse chief Werner Seifert is meeting Ms Furse on Thursday, in the third meeting between the two exchanges since the bid approach in December.\\n\\nThe LSE rejected Deutsche Boerse's proposed \\u00a31.3bn offer in December, saying it undervalued the business.\\n\\nBut it agreed to leave the door open for talks to find out whether a \\\"significantly-improved proposal\\\" would be in the interests of LSE's shareholders and customers. In the meantime, Euronext, which combines the Paris, Amsterdam and Lisbon stock exchanges, also began talks with the LSE. In a statement on Thursday, Euronext said any offer was likely to be solely in cash, but added that: \\\"There can be no assurances at this stage that any offer will be made.\\\" A deal with either bidder would create the biggest stock market operator in Europe and the second biggest in the world after the New York Stock Exchange.\\n\\nAccording to the FT, in its latest meeting Deutsche Boerse will adopt a charm offensive to woo the London exchange. The newspaper said the German suitor will offer to manage a combined cash and equities market out of London and let Ms Furse take the helm. Other reports this week said the Deutsche Boerse might even consider selling its Luxembourg-based Clearstream unit - the clearing house that processes securities transactions. Its ownership of Clearstream was seen as the main stumbling block to a London-Frankfurt merger. LSE shareholders feared a Deutsche Boerse takeover would force them to use Clearstream, making it difficult for them to negotiate for lower transaction fees.\\n\",\n          \"UKIP could sue Veritas defectors\\n\\nThe UK Independence Party could take legal action to unseat two London Assembly members who defected to Robert Kilroy Silk's Veritas Party.\\n\\nDamian Hockney, now Veritas deputy leader, and Peter Hulme-Cross were elected in 2004 on the list system. The party argues the pair should give up their seats as they won them as UKIP representatives, not as individuals. Mr Hockney said the law was clear that those elected on a list who quit their party should keep their seats. UKIP chairman Petrina Holdsworth urged the men to step down from the GLA in a letter.\\n\\nShe said: \\\"The party has taken legal advice and it is clear that we could take legal proceedings against you which could result in the return of our seats and/or damages against you. \\\"We would however like you to be given an opportunity to reflect on what you have done, to restore your own credibility with the electorate and return the seats to the party which won them fair and square at the last election.\\\" Mr Hockney said the law worked in exactly the same way for the GLA as it did for other electoral list systems. \\\"The Greater London Act is clear that if someone resigns who was elected on a list, their party whip the seat belongs to them and not the party.\\\" He said Mr Hulme-Cross and himself had no intention of resigning and added that they felt that it was UKIP who were not being true to the electorate. He accused the party of signing up to a deal with the Tories in Europe, rather than sticking to an independent stance. But the claim was denied by UKIP spokesman, who said: \\\"Mr Hockney's accusations are like his sense of political morals - empty.\\\" Veritas was formed by Mr Kilroy-Silk earlier this month after he quit UKIP following an unsuccessful bid to take over as leader.\\n\",\n          \"Jungle TV show ratings drop by 4m\\n\\nThe finale of ITV1's I'm a Celebrity... Get Me Out of Here drew an average of 10.9m viewers - about four million fewer than the previous series.\\n\\nThe fourth series of the show peaked on Monday at 11.9m and 49.2% of the audience, just before Joe Pasquale won. This compared with a peak of 15.3m at and a record 62.2% of the TV audience when Kerry McFadden won in February. Comic Pasquale beat former Royal butler Paul Burrell who came second, nightclub owner Fran Cosgrave, who was third. Pasquale follows Kerry McFadden, Phil Tufnell and Tony Blackburn as winners of the show.\\n\\nSinger and TV presenter McFadden was the show's first female winner. When cricketer Phil Tufnell won in May 2003, 12.3 million people - 50% of the viewing public - tuned in to watch. And when Tony Blackburn won the first show in 2002, 10.9 million people saw the show. Pasquale had been the show's hottest ever favourite to win, and its hosts Anthony McPartlin and Declan Donnelly, known as Ant and Dec, said Monday's deciding vote was the closest in the programme's history.\\n\\nPascuale has been flooded with offers of TV work, according to his management company, but one of his first jobs on his return is pantomime.\\n\\nBefore joining I'm a Celebrity, he had signed up to play Jack in Jack and the Beanstalk in Birmingham, and tickets for the show have become increasingly popular since he joined the TV show. His manager Robert Voice said: \\\"We've had interest from different TV producers. Some are for comedy shows, some are new-type projects. \\\"There are a number of things Joe wants to do. He is very ambitious. \\\"He wants to play the West End and do different things other than straightforward comedy. We are talking to a couple of West End producers about a musical.\\\"\\n\"\n        ],\n        \"semantic_type\": \"\",\n        \"description\": \"\"\n      }\n    },\n    {\n      \"column\": \"label\",\n      \"properties\": {\n        \"dtype\": \"category\",\n        \"num_unique_values\": 10,\n        \"samples\": [\n          \"medical\",\n          \"food\",\n          \"entertainment\"\n        ],\n        \"semantic_type\": \"\",\n        \"description\": \"\"\n      }\n    }\n  ]\n}"
            }
          },
          "metadata": {},
          "execution_count": 33
        }
      ]
    },
    {
      "cell_type": "markdown",
      "source": [
        "Choose a random document to summarize"
      ],
      "metadata": {
        "id": "cWA056W8ECk5"
      }
    },
    {
      "cell_type": "code",
      "source": [
        "doc = df[df.label == 'food']['text'].sample(random_state=10)"
      ],
      "metadata": {
        "id": "f6MgKEZWFPpD"
      },
      "execution_count": 34,
      "outputs": []
    },
    {
      "cell_type": "code",
      "source": [
        "def wrap(x):\n",
        "  return textwrap.fill(x, replace_whitespace=False, fix_sentence_endings=True)"
      ],
      "metadata": {
        "id": "O-Hfky8VWsUP"
      },
      "execution_count": 35,
      "outputs": []
    },
    {
      "cell_type": "code",
      "source": [
        "print(wrap(doc.iloc[0]))"
      ],
      "metadata": {
        "id": "4rMpaFSJFPr7",
        "colab": {
          "base_uri": "https://localhost:8080/"
        },
        "outputId": "23e70f07-d487-4c66-f02b-6ef16e7440cc"
      },
      "execution_count": 36,
      "outputs": [
        {
          "output_type": "stream",
          "name": "stdout",
          "text": [
            "Lab meat, also known as \"in vitro\" meat or clean meat, is grown from\n",
            "just a few stem cells taken from a living animal.  The first lab-grown\n",
            "meat was consumed in 2013 at a news conference in London.  It was a\n",
            "burger made by Mark Post, a pharmacologist at Maastricht University in\n",
            "the Netherlands, and the two tasters reported that it was a bit dry.\n",
            "In general, people are kind of grossed out about any sort of meat\n",
            "grown in the lab, researchers have found.  A survey of potential lab-\n",
            "meat customers in the United States, published last year in the\n",
            "journal PLOS ONE, found that two-thirds of people would be willing to\n",
            "try the stuff, but only one-third could see themselves eating it\n",
            "regularly.\n",
            "\n",
            "\"On average, people see clean meat as more ethical and\n",
            "environmental than farmed meat, but less natural, tasty and\n",
            "appealing,\" said study co-author Matti Wilks, a doctoral student in\n",
            "psychology at the University of Queensland, Australia. \n",
            "\n",
            "Only 16\n",
            "percent of respondents to Wilks' survey said they'd eat lab-grown meat\n",
            "if it were more expensive than typical meat, suggesting that people\n",
            "generally don't put too much monetary value on the ethical and\n",
            "environmental benefits of the product.\n",
            "\n",
            "That study found a very small\n",
            "number of people who reported that they'd be more willing to eat meat\n",
            "from animals like dogs, horses and cats if that meat were grown in the\n",
            "lab.  But the numbers were so small they wouldn't be noticeable if\n",
            "scaled up to the whole population of consumers, Wilks told Live\n",
            "Science.  What's more, she noted, the study found that vegetarians who\n",
            "already didn't eat meat were among the least likely to say they'd\n",
            "start eating meat if it were lab-grown.  Similarly, people who don't\n",
            "see the appeal of cannibalism aren't likely to change their minds just\n",
            "because the meat was never part of a living person, she said.\n",
            "\n",
            "\"I\n",
            "can't imagine that people who don't want to eat human meat now would\n",
            "suddenly feel motivated to eat human meat when produced via cellular\n",
            "agriculture,\" Wilks said.  [7 Ways Food Needs to Change]\n"
          ]
        }
      ]
    },
    {
      "cell_type": "markdown",
      "source": [
        "Create the TextRank Summarizer object"
      ],
      "metadata": {
        "id": "1QxXU8ixNsL8"
      }
    },
    {
      "cell_type": "code",
      "source": [
        "summarizer = TextRankSummarizer()"
      ],
      "metadata": {
        "id": "J1HiSnifMViL"
      },
      "execution_count": 37,
      "outputs": []
    },
    {
      "cell_type": "code",
      "source": [
        "parser = PlaintextParser.from_string(\n",
        "    doc.iloc[0].split(\"\\n\", 1)[1],\n",
        "    Tokenizer(\"english\"))"
      ],
      "metadata": {
        "id": "JDn7icnrMUFP"
      },
      "execution_count": 38,
      "outputs": []
    },
    {
      "cell_type": "markdown",
      "source": [
        "Choose number of sentences displayed in the summarization"
      ],
      "metadata": {
        "id": "llddwZcYORU7"
      }
    },
    {
      "cell_type": "code",
      "source": [
        "N = 3"
      ],
      "metadata": {
        "id": "0VMkaxhwOPmq"
      },
      "execution_count": 39,
      "outputs": []
    },
    {
      "cell_type": "code",
      "source": [
        "summary = summarizer(parser.document, sentences_count=N)"
      ],
      "metadata": {
        "id": "N9Axs16oMUKy"
      },
      "execution_count": 40,
      "outputs": []
    },
    {
      "cell_type": "markdown",
      "source": [
        "Print Summary"
      ],
      "metadata": {
        "id": "BPmOlIWfN0zO"
      }
    },
    {
      "cell_type": "code",
      "source": [
        "for s in summary:\n",
        "  print(wrap(str(s)))"
      ],
      "metadata": {
        "colab": {
          "base_uri": "https://localhost:8080/"
        },
        "id": "Rn2HYqk-MUNv",
        "outputId": "41a2b1e9-7ee5-48f4-e6c8-d712c01d7352"
      },
      "execution_count": 41,
      "outputs": [
        {
          "output_type": "stream",
          "name": "stdout",
          "text": [
            "A survey of potential lab-meat customers in the United States,\n",
            "published last year in the journal PLOS ONE, found that two-thirds of\n",
            "people would be willing to try the stuff, but only one-third could see\n",
            "themselves eating it regularly.\n",
            "Only 16 percent of respondents to Wilks' survey said they'd eat lab-\n",
            "grown meat if it were more expensive than typical meat, suggesting\n",
            "that people generally don't put too much monetary value on the ethical\n",
            "and environmental benefits of the product.\n",
            "That study found a very small number of people who reported that\n",
            "they'd be more willing to eat meat from animals like dogs, horses and\n",
            "cats if that meat were grown in the lab.\n"
          ]
        }
      ]
    }
  ]
}