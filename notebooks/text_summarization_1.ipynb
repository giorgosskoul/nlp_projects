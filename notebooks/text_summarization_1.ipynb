{
 "cells": [
  {
   "cell_type": "code",
   "execution_count": 1,
   "id": "d66befc0-10e4-4c49-9b87-83e396fe6400",
   "metadata": {},
   "outputs": [],
   "source": [
    "import numpy as np\n",
    "import pandas as pd\n",
    "from sklearn.feature_extraction.text import TfidfVectorizer\n",
    "from nltk.tokenize import word_tokenize\n",
    "from nltk.corpus import stopwords\n",
    "from nltk.tokenize import sent_tokenize"
   ]
  },
  {
   "cell_type": "code",
   "execution_count": 2,
   "id": "a3fbc5be-80a4-4a69-b72d-8979aa3ca80b",
   "metadata": {},
   "outputs": [],
   "source": [
    "# Import file and load in dataframe\n",
    "#------------------------------------------------------------\n",
    "file ='bbc_text_cls.csv'\n",
    "# Load the CSV file into a DataFrame\n",
    "df = pd.read_csv(file, encoding=\"ISO-8859-1\")"
   ]
  },
  {
   "cell_type": "code",
   "execution_count": 5,
   "id": "f2a84f34-b190-4cfb-a520-2cb60a5a390c",
   "metadata": {},
   "outputs": [],
   "source": [
    "# For each doc, split by sentence\n",
    "#------------------------------------------------------------\n",
    "df_numpy = df['text'].to_numpy()\n",
    "docs = []\n",
    "for index, doc in enumerate(df_numpy):\n",
    "    # Split the text into sentences using nltk's sent_tokenize\n",
    "    sentences = sent_tokenize(doc)\n",
    "    docs.append(sentences)"
   ]
  },
  {
   "cell_type": "code",
   "execution_count": 14,
   "id": "3e565956-821f-49bc-ac7c-d3eab6d2ca04",
   "metadata": {},
   "outputs": [],
   "source": [
    "## --- FUNCTIONS ---\n",
    "\n",
    "# Function to print a document in a nice-readable format\n",
    "#------------------------------------------------------------\n",
    "def print_single_document(doc):\n",
    "    for i, sentence in enumerate(doc):\n",
    "        print(f\"{sentence}\")\n",
    "        if i < len(doc) - 1:\n",
    "            print()  # Add a blank line between sentences\n",
    "\n",
    "# Function for text summarization\n",
    "#------------------------------------------------------------\n",
    "def text_summarization(doc, num_sentences = 2, just_print=0):\n",
    "    # OUTPUT\n",
    "    sum_doc = []\n",
    "    # doc must be a list that contains sentences\n",
    "    L = len(doc) # doc's size\n",
    "    if num_sentences > L:\n",
    "        print(\"Warning: Please ensure that the number of sentences for summarization are less than the sentences contained inside your document\")\n",
    "    else:\n",
    "        ## compute tfidf vectors for each word in each sentence of the document\n",
    "        vectorizer = TfidfVectorizer(stop_words='english',decode_error='ignore')\n",
    "        docs_tfidf = vectorizer.fit_transform(doc)\n",
    "        ## compute average tfidf score per sentence\n",
    "        # average tfidf score per sentence\n",
    "        scores = np.array(np.mean(docs_tfidf, axis=1)).flatten() \n",
    "        # reverse sorting by index\n",
    "        sorted_indices = np.argsort(scores)[::-1] \n",
    "        ## Select and print the top N sentences based on their original order\n",
    "        sum_indices = sorted_indices[:num_sentences]\n",
    "        # Sort the top indices to maintain their original order\n",
    "        sum_indices.sort()  \n",
    "        for _,index in enumerate(sum_indices):\n",
    "            sum_doc.append(doc[index])\n",
    "        if just_print ==1:\n",
    "            print_single_document(sum_doc)\n",
    "        else:\n",
    "            return sum_doc"
   ]
  },
  {
   "cell_type": "code",
   "execution_count": 115,
   "id": "235a3b5c-94fc-4396-b11f-fb729d2c3d45",
   "metadata": {},
   "outputs": [],
   "source": [
    "## CHOOSE DOCUMENT IN docs\n",
    "#------------------------------------------------------------\n",
    "doc_index = 12"
   ]
  },
  {
   "cell_type": "code",
   "execution_count": 116,
   "id": "cad0aabc-ebc2-473b-864c-ba82bbce0253",
   "metadata": {},
   "outputs": [
    {
     "name": "stdout",
     "output_type": "stream",
     "text": [
      "Peugeot deal boosts Mitsubishi\n",
      "\n",
      "Struggling Japanese car maker Mitsubishi Motors has struck a deal to supply French car maker Peugeot with 30,000 sports utility vehicles (SUV).\n",
      "\n",
      "The two firms signed a Memorandum of Understanding, and say they expect to seal a final agreement by Spring 2005.\n",
      "\n",
      "The alliance comes as a badly-needed boost for loss-making Mitsubishi, after several profit warnings and poor sales.\n",
      "\n",
      "The SUVs will be built in Japan using Peugeot's diesel engines and sold mainly in the European market.\n",
      "\n",
      "Falling sales have left Mitsubishi Motors with underused capacity, and the production deal with Peugeot gives it a chance to utilise some of it.\n",
      "\n",
      "In January, Mitsubishi Motors issued its third profits warning in nine months, and cut its sales forecasts for the year to March 2005.\n",
      "\n",
      "Its sales have slid 41% in the past year, catalysed by the revelation that the company had systematically been hiding records of faults and then secretly repairing vehicles.\n",
      "\n",
      "As a result, the Japanese car maker has sought a series of financial bailouts.\n",
      "\n",
      "Last month it said it was looking for a further 540bn yen ($5.2bn; Â£2.77bn) in fresh financial backing, half of it from other companies in the Mitsubishi group.\n",
      "\n",
      "US-German carmaker DaimlerChrylser, a 30% shareholder in Mitsubishi Motors, decided in April 2004 not to pump in any more money.\n",
      "\n",
      "The deal with Peugeot was celebrated by Mitsubishi's newly-appointed chief executive Takashi Nishioka, who took over after three top bosses stood down last month to shoulder responsibility for the firm's troubles.\n",
      "\n",
      "Mitsubishi Motors has forecast a net loss of 472bn yen in its current financial year to March 2005.\n",
      "\n",
      "Last month, it signed a production agreement with Japanese rival Nissan Motor to supply it with 36,000 small cars for sale in Japan.\n",
      "\n",
      "It has been making cars for Nissan since 2003.\n"
     ]
    }
   ],
   "source": [
    "## PRINT THE ENTIRE DOCUMENT\n",
    "#------------------------------------------------------------\n",
    "print_single_document(docs[doc_index])"
   ]
  },
  {
   "cell_type": "code",
   "execution_count": 117,
   "id": "26843a4d-5a46-4fbd-8ad6-26c532e4f0f0",
   "metadata": {},
   "outputs": [
    {
     "name": "stdout",
     "output_type": "stream",
     "text": [
      "Peugeot deal boosts Mitsubishi\n",
      "\n",
      "Struggling Japanese car maker Mitsubishi Motors has struck a deal to supply French car maker Peugeot with 30,000 sports utility vehicles (SUV).\n",
      "\n",
      "The deal with Peugeot was celebrated by Mitsubishi's newly-appointed chief executive Takashi Nishioka, who took over after three top bosses stood down last month to shoulder responsibility for the firm's troubles.\n",
      "\n",
      "Last month, it signed a production agreement with Japanese rival Nissan Motor to supply it with 36,000 small cars for sale in Japan.\n"
     ]
    }
   ],
   "source": [
    "## PRINT THE SUMMARIZED VERSION\n",
    "#------------------------------------------------------------\n",
    "num_sentences = 3\n",
    "text_summarization(docs[doc_index], num_sentences = num_sentences, just_print=1)"
   ]
  }
 ],
 "metadata": {
  "kernelspec": {
   "display_name": "Python 3 (ipykernel)",
   "language": "python",
   "name": "python3"
  },
  "language_info": {
   "codemirror_mode": {
    "name": "ipython",
    "version": 3
   },
   "file_extension": ".py",
   "mimetype": "text/x-python",
   "name": "python",
   "nbconvert_exporter": "python",
   "pygments_lexer": "ipython3",
   "version": "3.10.9"
  }
 },
 "nbformat": 4,
 "nbformat_minor": 5
}
