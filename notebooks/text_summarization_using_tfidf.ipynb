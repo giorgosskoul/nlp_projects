{
  "nbformat": 4,
  "nbformat_minor": 0,
  "metadata": {
    "colab": {
      "provenance": [],
      "mount_file_id": "1YvRtW8vthgw_dvg9Qrn-uJiXfw6O32Dd",
      "authorship_tag": "ABX9TyNNs3xRNlDlqPQr998WvzLk"
    },
    "kernelspec": {
      "name": "python3",
      "display_name": "Python 3"
    },
    "language_info": {
      "name": "python"
    }
  },
  "cells": [
    {
      "cell_type": "markdown",
      "source": [
        "Import Libraries"
      ],
      "metadata": {
        "id": "lYY56mpQDe0s"
      }
    },
    {
      "cell_type": "code",
      "execution_count": 1,
      "metadata": {
        "id": "sggkDPzHFL_V"
      },
      "outputs": [],
      "source": [
        "import pandas as pd\n",
        "import os\n",
        "import numpy as np\n",
        "import textwrap\n",
        "import nltk\n",
        "from nltk.corpus import stopwords\n",
        "from nltk import word_tokenize\n",
        "from nltk.stem import WordNetLemmatizer, PorterStemmer\n",
        "from sklearn.feature_extraction.text import TfidfVectorizer\n",
        "import matplotlib.pyplot as plt"
      ]
    },
    {
      "cell_type": "code",
      "source": [
        "nltk.download('punkt')\n",
        "nltk.download('stopwords')"
      ],
      "metadata": {
        "colab": {
          "base_uri": "https://localhost:8080/"
        },
        "id": "YZkhmCF2FPmc",
        "outputId": "62bde78a-026e-486d-925c-bf4bb86f3976"
      },
      "execution_count": 2,
      "outputs": [
        {
          "output_type": "stream",
          "name": "stderr",
          "text": [
            "[nltk_data] Downloading package punkt to /root/nltk_data...\n",
            "[nltk_data]   Unzipping tokenizers/punkt.zip.\n",
            "[nltk_data] Downloading package stopwords to /root/nltk_data...\n",
            "[nltk_data]   Unzipping corpora/stopwords.zip.\n"
          ]
        },
        {
          "output_type": "execute_result",
          "data": {
            "text/plain": [
              "True"
            ]
          },
          "metadata": {},
          "execution_count": 2
        }
      ]
    },
    {
      "cell_type": "markdown",
      "source": [
        "Utilize the (10)Dataset Text Document Classification and create a DataFrame containing the text column and label column"
      ],
      "metadata": {
        "id": "zONQweEjDqOA"
      }
    },
    {
      "cell_type": "code",
      "source": [
        "# /content/drive/MyDrive/(10)Dataset Text Document Classification\n",
        "\n",
        "\n",
        "# Define the root directory where your folders are located\n",
        "root_dir = '/content/drive/MyDrive/(10)Dataset Text Document Classification'\n",
        "\n",
        "# Initialize empty lists to store text and labels\n",
        "texts = []\n",
        "labels = []\n",
        "\n",
        "# Iterate through each folder in the root directory\n",
        "for folder in os.listdir(root_dir):\n",
        "    folder_path = os.path.join(root_dir, folder)\n",
        "\n",
        "    # Check if the item in the root directory is a folder\n",
        "    if os.path.isdir(folder_path):\n",
        "        # Iterate through each file in the folder\n",
        "        for file in os.listdir(folder_path):\n",
        "            file_path = os.path.join(folder_path, file)\n",
        "\n",
        "            # Read the content of the file\n",
        "            with open(file_path, 'r', encoding='utf-8') as f:\n",
        "                text = f.read()\n",
        "\n",
        "            # Append text and label to the lists\n",
        "            texts.append(text)\n",
        "            labels.append(folder)\n",
        "\n",
        "# Create pandas DataFrame\n",
        "df = pd.DataFrame({'text': texts, 'label': labels})"
      ],
      "metadata": {
        "id": "duGVjBmdGfZN"
      },
      "execution_count": 3,
      "outputs": []
    },
    {
      "cell_type": "code",
      "source": [
        "df.head()"
      ],
      "metadata": {
        "id": "ADOFgGVDk5us",
        "colab": {
          "base_uri": "https://localhost:8080/",
          "height": 206
        },
        "outputId": "81d4f50b-fade-46fa-f811-bbdca91128c0"
      },
      "execution_count": 4,
      "outputs": [
        {
          "output_type": "execute_result",
          "data": {
            "text/plain": [
              "                                                text  label\n",
              "0  Chepkemei hit by big ban\\n\\nKenya's athletics ...  sport\n",
              "1  El Guerrouj targets cross country\\n\\nDouble Ol...  sport\n",
              "2  Gebrselassie in London triple bid\\n\\nDouble Ol...  sport\n",
              "3  McIlroy continues winning streak\\n\\nJames McIl...  sport\n",
              "4  GB select Holmes for double bid\\n\\nKelly Holme...  sport"
            ],
            "text/html": [
              "\n",
              "  <div id=\"df-46ca7ec7-ac96-4ee5-9cf9-12d10409cb95\" class=\"colab-df-container\">\n",
              "    <div>\n",
              "<style scoped>\n",
              "    .dataframe tbody tr th:only-of-type {\n",
              "        vertical-align: middle;\n",
              "    }\n",
              "\n",
              "    .dataframe tbody tr th {\n",
              "        vertical-align: top;\n",
              "    }\n",
              "\n",
              "    .dataframe thead th {\n",
              "        text-align: right;\n",
              "    }\n",
              "</style>\n",
              "<table border=\"1\" class=\"dataframe\">\n",
              "  <thead>\n",
              "    <tr style=\"text-align: right;\">\n",
              "      <th></th>\n",
              "      <th>text</th>\n",
              "      <th>label</th>\n",
              "    </tr>\n",
              "  </thead>\n",
              "  <tbody>\n",
              "    <tr>\n",
              "      <th>0</th>\n",
              "      <td>Chepkemei hit by big ban\\n\\nKenya's athletics ...</td>\n",
              "      <td>sport</td>\n",
              "    </tr>\n",
              "    <tr>\n",
              "      <th>1</th>\n",
              "      <td>El Guerrouj targets cross country\\n\\nDouble Ol...</td>\n",
              "      <td>sport</td>\n",
              "    </tr>\n",
              "    <tr>\n",
              "      <th>2</th>\n",
              "      <td>Gebrselassie in London triple bid\\n\\nDouble Ol...</td>\n",
              "      <td>sport</td>\n",
              "    </tr>\n",
              "    <tr>\n",
              "      <th>3</th>\n",
              "      <td>McIlroy continues winning streak\\n\\nJames McIl...</td>\n",
              "      <td>sport</td>\n",
              "    </tr>\n",
              "    <tr>\n",
              "      <th>4</th>\n",
              "      <td>GB select Holmes for double bid\\n\\nKelly Holme...</td>\n",
              "      <td>sport</td>\n",
              "    </tr>\n",
              "  </tbody>\n",
              "</table>\n",
              "</div>\n",
              "    <div class=\"colab-df-buttons\">\n",
              "\n",
              "  <div class=\"colab-df-container\">\n",
              "    <button class=\"colab-df-convert\" onclick=\"convertToInteractive('df-46ca7ec7-ac96-4ee5-9cf9-12d10409cb95')\"\n",
              "            title=\"Convert this dataframe to an interactive table.\"\n",
              "            style=\"display:none;\">\n",
              "\n",
              "  <svg xmlns=\"http://www.w3.org/2000/svg\" height=\"24px\" viewBox=\"0 -960 960 960\">\n",
              "    <path d=\"M120-120v-720h720v720H120Zm60-500h600v-160H180v160Zm220 220h160v-160H400v160Zm0 220h160v-160H400v160ZM180-400h160v-160H180v160Zm440 0h160v-160H620v160ZM180-180h160v-160H180v160Zm440 0h160v-160H620v160Z\"/>\n",
              "  </svg>\n",
              "    </button>\n",
              "\n",
              "  <style>\n",
              "    .colab-df-container {\n",
              "      display:flex;\n",
              "      gap: 12px;\n",
              "    }\n",
              "\n",
              "    .colab-df-convert {\n",
              "      background-color: #E8F0FE;\n",
              "      border: none;\n",
              "      border-radius: 50%;\n",
              "      cursor: pointer;\n",
              "      display: none;\n",
              "      fill: #1967D2;\n",
              "      height: 32px;\n",
              "      padding: 0 0 0 0;\n",
              "      width: 32px;\n",
              "    }\n",
              "\n",
              "    .colab-df-convert:hover {\n",
              "      background-color: #E2EBFA;\n",
              "      box-shadow: 0px 1px 2px rgba(60, 64, 67, 0.3), 0px 1px 3px 1px rgba(60, 64, 67, 0.15);\n",
              "      fill: #174EA6;\n",
              "    }\n",
              "\n",
              "    .colab-df-buttons div {\n",
              "      margin-bottom: 4px;\n",
              "    }\n",
              "\n",
              "    [theme=dark] .colab-df-convert {\n",
              "      background-color: #3B4455;\n",
              "      fill: #D2E3FC;\n",
              "    }\n",
              "\n",
              "    [theme=dark] .colab-df-convert:hover {\n",
              "      background-color: #434B5C;\n",
              "      box-shadow: 0px 1px 3px 1px rgba(0, 0, 0, 0.15);\n",
              "      filter: drop-shadow(0px 1px 2px rgba(0, 0, 0, 0.3));\n",
              "      fill: #FFFFFF;\n",
              "    }\n",
              "  </style>\n",
              "\n",
              "    <script>\n",
              "      const buttonEl =\n",
              "        document.querySelector('#df-46ca7ec7-ac96-4ee5-9cf9-12d10409cb95 button.colab-df-convert');\n",
              "      buttonEl.style.display =\n",
              "        google.colab.kernel.accessAllowed ? 'block' : 'none';\n",
              "\n",
              "      async function convertToInteractive(key) {\n",
              "        const element = document.querySelector('#df-46ca7ec7-ac96-4ee5-9cf9-12d10409cb95');\n",
              "        const dataTable =\n",
              "          await google.colab.kernel.invokeFunction('convertToInteractive',\n",
              "                                                    [key], {});\n",
              "        if (!dataTable) return;\n",
              "\n",
              "        const docLinkHtml = 'Like what you see? Visit the ' +\n",
              "          '<a target=\"_blank\" href=https://colab.research.google.com/notebooks/data_table.ipynb>data table notebook</a>'\n",
              "          + ' to learn more about interactive tables.';\n",
              "        element.innerHTML = '';\n",
              "        dataTable['output_type'] = 'display_data';\n",
              "        await google.colab.output.renderOutput(dataTable, element);\n",
              "        const docLink = document.createElement('div');\n",
              "        docLink.innerHTML = docLinkHtml;\n",
              "        element.appendChild(docLink);\n",
              "      }\n",
              "    </script>\n",
              "  </div>\n",
              "\n",
              "\n",
              "<div id=\"df-26183fa8-ede2-417d-9a47-be1bde207d6c\">\n",
              "  <button class=\"colab-df-quickchart\" onclick=\"quickchart('df-26183fa8-ede2-417d-9a47-be1bde207d6c')\"\n",
              "            title=\"Suggest charts\"\n",
              "            style=\"display:none;\">\n",
              "\n",
              "<svg xmlns=\"http://www.w3.org/2000/svg\" height=\"24px\"viewBox=\"0 0 24 24\"\n",
              "     width=\"24px\">\n",
              "    <g>\n",
              "        <path d=\"M19 3H5c-1.1 0-2 .9-2 2v14c0 1.1.9 2 2 2h14c1.1 0 2-.9 2-2V5c0-1.1-.9-2-2-2zM9 17H7v-7h2v7zm4 0h-2V7h2v10zm4 0h-2v-4h2v4z\"/>\n",
              "    </g>\n",
              "</svg>\n",
              "  </button>\n",
              "\n",
              "<style>\n",
              "  .colab-df-quickchart {\n",
              "      --bg-color: #E8F0FE;\n",
              "      --fill-color: #1967D2;\n",
              "      --hover-bg-color: #E2EBFA;\n",
              "      --hover-fill-color: #174EA6;\n",
              "      --disabled-fill-color: #AAA;\n",
              "      --disabled-bg-color: #DDD;\n",
              "  }\n",
              "\n",
              "  [theme=dark] .colab-df-quickchart {\n",
              "      --bg-color: #3B4455;\n",
              "      --fill-color: #D2E3FC;\n",
              "      --hover-bg-color: #434B5C;\n",
              "      --hover-fill-color: #FFFFFF;\n",
              "      --disabled-bg-color: #3B4455;\n",
              "      --disabled-fill-color: #666;\n",
              "  }\n",
              "\n",
              "  .colab-df-quickchart {\n",
              "    background-color: var(--bg-color);\n",
              "    border: none;\n",
              "    border-radius: 50%;\n",
              "    cursor: pointer;\n",
              "    display: none;\n",
              "    fill: var(--fill-color);\n",
              "    height: 32px;\n",
              "    padding: 0;\n",
              "    width: 32px;\n",
              "  }\n",
              "\n",
              "  .colab-df-quickchart:hover {\n",
              "    background-color: var(--hover-bg-color);\n",
              "    box-shadow: 0 1px 2px rgba(60, 64, 67, 0.3), 0 1px 3px 1px rgba(60, 64, 67, 0.15);\n",
              "    fill: var(--button-hover-fill-color);\n",
              "  }\n",
              "\n",
              "  .colab-df-quickchart-complete:disabled,\n",
              "  .colab-df-quickchart-complete:disabled:hover {\n",
              "    background-color: var(--disabled-bg-color);\n",
              "    fill: var(--disabled-fill-color);\n",
              "    box-shadow: none;\n",
              "  }\n",
              "\n",
              "  .colab-df-spinner {\n",
              "    border: 2px solid var(--fill-color);\n",
              "    border-color: transparent;\n",
              "    border-bottom-color: var(--fill-color);\n",
              "    animation:\n",
              "      spin 1s steps(1) infinite;\n",
              "  }\n",
              "\n",
              "  @keyframes spin {\n",
              "    0% {\n",
              "      border-color: transparent;\n",
              "      border-bottom-color: var(--fill-color);\n",
              "      border-left-color: var(--fill-color);\n",
              "    }\n",
              "    20% {\n",
              "      border-color: transparent;\n",
              "      border-left-color: var(--fill-color);\n",
              "      border-top-color: var(--fill-color);\n",
              "    }\n",
              "    30% {\n",
              "      border-color: transparent;\n",
              "      border-left-color: var(--fill-color);\n",
              "      border-top-color: var(--fill-color);\n",
              "      border-right-color: var(--fill-color);\n",
              "    }\n",
              "    40% {\n",
              "      border-color: transparent;\n",
              "      border-right-color: var(--fill-color);\n",
              "      border-top-color: var(--fill-color);\n",
              "    }\n",
              "    60% {\n",
              "      border-color: transparent;\n",
              "      border-right-color: var(--fill-color);\n",
              "    }\n",
              "    80% {\n",
              "      border-color: transparent;\n",
              "      border-right-color: var(--fill-color);\n",
              "      border-bottom-color: var(--fill-color);\n",
              "    }\n",
              "    90% {\n",
              "      border-color: transparent;\n",
              "      border-bottom-color: var(--fill-color);\n",
              "    }\n",
              "  }\n",
              "</style>\n",
              "\n",
              "  <script>\n",
              "    async function quickchart(key) {\n",
              "      const quickchartButtonEl =\n",
              "        document.querySelector('#' + key + ' button');\n",
              "      quickchartButtonEl.disabled = true;  // To prevent multiple clicks.\n",
              "      quickchartButtonEl.classList.add('colab-df-spinner');\n",
              "      try {\n",
              "        const charts = await google.colab.kernel.invokeFunction(\n",
              "            'suggestCharts', [key], {});\n",
              "      } catch (error) {\n",
              "        console.error('Error during call to suggestCharts:', error);\n",
              "      }\n",
              "      quickchartButtonEl.classList.remove('colab-df-spinner');\n",
              "      quickchartButtonEl.classList.add('colab-df-quickchart-complete');\n",
              "    }\n",
              "    (() => {\n",
              "      let quickchartButtonEl =\n",
              "        document.querySelector('#df-26183fa8-ede2-417d-9a47-be1bde207d6c button');\n",
              "      quickchartButtonEl.style.display =\n",
              "        google.colab.kernel.accessAllowed ? 'block' : 'none';\n",
              "    })();\n",
              "  </script>\n",
              "</div>\n",
              "    </div>\n",
              "  </div>\n"
            ],
            "application/vnd.google.colaboratory.intrinsic+json": {
              "type": "dataframe",
              "variable_name": "df",
              "summary": "{\n  \"name\": \"df\",\n  \"rows\": 1000,\n  \"fields\": [\n    {\n      \"column\": \"text\",\n      \"properties\": {\n        \"dtype\": \"string\",\n        \"num_unique_values\": 992,\n        \"samples\": [\n          \"Deutsche Boerse set to 'woo' LSE\\n\\nBosses of Deutsche Boerse and the London Stock Exchange are to meet amid talk that a takeover bid for the LSE will be raised to \\u00a31.5bn ($2.9bn).\\n\\nLast month, the German exchange tabled a 530 pence-per-share offer for LSE, valuing it at \\u00a31.3bn. Paris-based Euronext, owner of Liffe in London, has also said it is interested in bidding for LSE. Euronext is due to hold talks with LSE this week and it is reported to be ready to raise \\u00a31.4bn to fund a bid. Euronext chief Jean-Francois Theodore is scheduled to meet his LSE counterpart Clara Furse on Friday. Deutsche Boerse chief Werner Seifert is meeting Ms Furse on Thursday, in the third meeting between the two exchanges since the bid approach in December.\\n\\nThe LSE rejected Deutsche Boerse's proposed \\u00a31.3bn offer in December, saying it undervalued the business.\\n\\nBut it agreed to leave the door open for talks to find out whether a \\\"significantly-improved proposal\\\" would be in the interests of LSE's shareholders and customers. In the meantime, Euronext, which combines the Paris, Amsterdam and Lisbon stock exchanges, also began talks with the LSE. In a statement on Thursday, Euronext said any offer was likely to be solely in cash, but added that: \\\"There can be no assurances at this stage that any offer will be made.\\\" A deal with either bidder would create the biggest stock market operator in Europe and the second biggest in the world after the New York Stock Exchange.\\n\\nAccording to the FT, in its latest meeting Deutsche Boerse will adopt a charm offensive to woo the London exchange. The newspaper said the German suitor will offer to manage a combined cash and equities market out of London and let Ms Furse take the helm. Other reports this week said the Deutsche Boerse might even consider selling its Luxembourg-based Clearstream unit - the clearing house that processes securities transactions. Its ownership of Clearstream was seen as the main stumbling block to a London-Frankfurt merger. LSE shareholders feared a Deutsche Boerse takeover would force them to use Clearstream, making it difficult for them to negotiate for lower transaction fees.\\n\",\n          \"UKIP could sue Veritas defectors\\n\\nThe UK Independence Party could take legal action to unseat two London Assembly members who defected to Robert Kilroy Silk's Veritas Party.\\n\\nDamian Hockney, now Veritas deputy leader, and Peter Hulme-Cross were elected in 2004 on the list system. The party argues the pair should give up their seats as they won them as UKIP representatives, not as individuals. Mr Hockney said the law was clear that those elected on a list who quit their party should keep their seats. UKIP chairman Petrina Holdsworth urged the men to step down from the GLA in a letter.\\n\\nShe said: \\\"The party has taken legal advice and it is clear that we could take legal proceedings against you which could result in the return of our seats and/or damages against you. \\\"We would however like you to be given an opportunity to reflect on what you have done, to restore your own credibility with the electorate and return the seats to the party which won them fair and square at the last election.\\\" Mr Hockney said the law worked in exactly the same way for the GLA as it did for other electoral list systems. \\\"The Greater London Act is clear that if someone resigns who was elected on a list, their party whip the seat belongs to them and not the party.\\\" He said Mr Hulme-Cross and himself had no intention of resigning and added that they felt that it was UKIP who were not being true to the electorate. He accused the party of signing up to a deal with the Tories in Europe, rather than sticking to an independent stance. But the claim was denied by UKIP spokesman, who said: \\\"Mr Hockney's accusations are like his sense of political morals - empty.\\\" Veritas was formed by Mr Kilroy-Silk earlier this month after he quit UKIP following an unsuccessful bid to take over as leader.\\n\",\n          \"Jungle TV show ratings drop by 4m\\n\\nThe finale of ITV1's I'm a Celebrity... Get Me Out of Here drew an average of 10.9m viewers - about four million fewer than the previous series.\\n\\nThe fourth series of the show peaked on Monday at 11.9m and 49.2% of the audience, just before Joe Pasquale won. This compared with a peak of 15.3m at and a record 62.2% of the TV audience when Kerry McFadden won in February. Comic Pasquale beat former Royal butler Paul Burrell who came second, nightclub owner Fran Cosgrave, who was third. Pasquale follows Kerry McFadden, Phil Tufnell and Tony Blackburn as winners of the show.\\n\\nSinger and TV presenter McFadden was the show's first female winner. When cricketer Phil Tufnell won in May 2003, 12.3 million people - 50% of the viewing public - tuned in to watch. And when Tony Blackburn won the first show in 2002, 10.9 million people saw the show. Pasquale had been the show's hottest ever favourite to win, and its hosts Anthony McPartlin and Declan Donnelly, known as Ant and Dec, said Monday's deciding vote was the closest in the programme's history.\\n\\nPascuale has been flooded with offers of TV work, according to his management company, but one of his first jobs on his return is pantomime.\\n\\nBefore joining I'm a Celebrity, he had signed up to play Jack in Jack and the Beanstalk in Birmingham, and tickets for the show have become increasingly popular since he joined the TV show. His manager Robert Voice said: \\\"We've had interest from different TV producers. Some are for comedy shows, some are new-type projects. \\\"There are a number of things Joe wants to do. He is very ambitious. \\\"He wants to play the West End and do different things other than straightforward comedy. We are talking to a couple of West End producers about a musical.\\\"\\n\"\n        ],\n        \"semantic_type\": \"\",\n        \"description\": \"\"\n      }\n    },\n    {\n      \"column\": \"label\",\n      \"properties\": {\n        \"dtype\": \"category\",\n        \"num_unique_values\": 10,\n        \"samples\": [\n          \"medical\",\n          \"food\",\n          \"entertainment\"\n        ],\n        \"semantic_type\": \"\",\n        \"description\": \"\"\n      }\n    }\n  ]\n}"
            }
          },
          "metadata": {},
          "execution_count": 4
        }
      ]
    },
    {
      "cell_type": "code",
      "source": [
        "# Count the occurrences of each label\n",
        "label_counts = df['label'].value_counts()\n",
        "\n",
        "# Plot histogram\n",
        "plt.figure(figsize=(10, 6))\n",
        "label_counts.plot(kind='bar')\n",
        "plt.title('Distribution of Document Categories')\n",
        "plt.xlabel('Categories')\n",
        "plt.ylabel('Count')\n",
        "plt.xticks(rotation=45, ha='right')\n",
        "plt.tight_layout()\n",
        "plt.show()"
      ],
      "metadata": {
        "id": "ZP9VXTiqlZtw",
        "colab": {
          "base_uri": "https://localhost:8080/",
          "height": 607
        },
        "outputId": "eb5eb8cd-d87f-4575-e38b-279c22dda2d2"
      },
      "execution_count": 5,
      "outputs": [
        {
          "output_type": "display_data",
          "data": {
            "text/plain": [
              "<Figure size 1000x600 with 1 Axes>"
            ],
            "image/png": "[encoded data removed]"
          },
          "metadata": {}
        }
      ]
    },
    {
      "cell_type": "markdown",
      "source": [
        "Choose a random document to summarize"
      ],
      "metadata": {
        "id": "cWA056W8ECk5"
      }
    },
    {
      "cell_type": "code",
      "source": [
        "doc = df[df.label == 'food']['text'].sample(random_state=10)"
      ],
      "metadata": {
        "id": "f6MgKEZWFPpD"
      },
      "execution_count": 119,
      "outputs": []
    },
    {
      "cell_type": "code",
      "source": [
        "def wrap(x):\n",
        "  return textwrap.fill(x, replace_whitespace=False, fix_sentence_endings=True)"
      ],
      "metadata": {
        "id": "O-Hfky8VWsUP"
      },
      "execution_count": 120,
      "outputs": []
    },
    {
      "cell_type": "code",
      "source": [
        "print(wrap(doc.iloc[0]))"
      ],
      "metadata": {
        "id": "4rMpaFSJFPr7",
        "colab": {
          "base_uri": "https://localhost:8080/"
        },
        "outputId": "48b5ae1b-bc46-47cb-9998-dfe0fea9059a"
      },
      "execution_count": 121,
      "outputs": [
        {
          "output_type": "stream",
          "name": "stdout",
          "text": [
            "Archive-name: space/controversy\n",
            "Last-modified: $Date: 93/04/01\n",
            "14:39:06 $\n",
            "    These issues periodically come up with much argument\n",
            "and few facts being\n",
            "    offered.  The summaries below attempt to\n",
            "represent the position on which\n",
            "    much of the net community has\n",
            "settled.  Please DON'T bring them up again\n",
            "    unless there's\n",
            "something truly new to be discussed.  The net can't set\n",
            "    public\n",
            "policy, that's what your representatives are for.\n",
            "    Despite a\n",
            "widespread belief to the contrary, the Saturn V blueprints\n",
            "    have\n",
            "not been lost.  They are kept at Marshall Space Flight Center on\n",
            "microfilm.\n",
            "    The problem in re-creating the Saturn V is not finding\n",
            "the drawings, it\n",
            "    is finding vendors who can supply mid-1960's\n",
            "vintage hardware (like\n",
            "    guidance system components), and the fact\n",
            "that the launch pads and VAB\n",
            "    have been converted to Space Shuttle\n",
            "use, so you have no place to launch\n",
            "    from.\n",
            "    By the time you\n",
            "redesign to accommodate available hardware and re-modify\n",
            "    the\n",
            "launch pads, you may as well have started from scratch with a clean\n",
            "sheet design.\n",
            "    Investigators associated with NASA missions are\n",
            "allowed exclusive access\n",
            "    for one year after the data is obtained\n",
            "in order to give them an\n",
            "    opportunity to analyze the data and\n",
            "publish results without being\n",
            "    \"scooped\" by people uninvolved in\n",
            "the mission.  However, NASA frequently\n",
            "    releases examples (in non-\n",
            "digital form, e.g.  photos) to the public early\n",
            "    in a mission.\n",
            "There has been extensive discussion on this topic sparked by attempts\n",
            "to\n",
            "    block the Galileo and Ulysses launches on grounds of the\n",
            "plutonium\n",
            "    thermal sources being dangerous.  Numerous studies claim\n",
            "that even in\n",
            "    worst-case scenarios (shuttle explosion during\n",
            "launch, or accidental\n",
            "    reentry at interplanetary velocities), the\n",
            "risks are extremely small.\n",
            "    Two interesting data points are (1) The\n",
            "May 1968 loss of two SNAP 19B2\n",
            "    RTGs, which landed intact in the\n",
            "Pacific Ocean after a Nimbus B weather\n",
            "    satellite failed to reach\n",
            "orbit.  The fuel was recovered after 5 months\n",
            "    with no release of\n",
            "plutonium.  (2) In April 1970, the Apollo 13 lunar\n",
            "    module\n",
            "reentered the atmosphere and its SNAP 27 RTG heat source, which\n",
            "was jettisoned, fell intact into the 20,000 feet deep Tonga Trench in\n",
            "the Pacific Ocean.  The corrosion resistant materials of the RTG are\n",
            "expected to prevent release of the fuel for a period of time equal to\n",
            "10\n",
            "    half-lives of the Pu-238 fuel or about 870 years [DOE 1980].\n",
            "To make your own informed judgement, some references you may wish to\n",
            "pursue are:\n",
            "    A good review of the technical facts and issues is\n",
            "given by Daniel\n",
            "    Salisbury in \"Radiation Risk and Planetary\n",
            "Exploration-- The RTG\n",
            "    Controversy,\" *Planetary Report*, May-June\n",
            "1987, pages 3-7. Another good\n",
            "    article, which also reviews the\n",
            "events preceding Galileo's launch,\n",
            "    \"Showdown at Pad 39-B,\" by\n",
            "Robert G. Nichols, appeared in the November\n",
            "    1989 issue of *Ad\n",
            "Astra*. (Both magazines are published by pro-space\n",
            "    organizations,\n",
            "the Planetary Society and the National Space Society\n",
            "respectively.)\n",
            "    Gordon L Chipman, Jr., \"Advanced Space Nuclear\n",
            "Systems\" (AAS 82-261), in\n",
            "    *Developing the Space Frontier*, edited\n",
            "by Albert Naumann and Grover\n",
            "    Alexander, Univelt, 1983, p.\n",
            "193-213.\n",
            "    \"Hazards from Plutonium Toxicity\", by Bernard L. Cohen,\n",
            "Health Physics,\n",
            "    Vol 32 (may) 1977, page 359-379.\n",
            "    NUS\n",
            "Corporation, Safety Status Report for the Ulysses Mission: Risk\n",
            "Analysis (Book 1). Document number is NUS 5235; there is no GPO #;\n",
            "published Jan 31, 1990.\n",
            "    NASA Office of Space Science and\n",
            "Applications, *Final Environmental\n",
            "    Impact Statement for the\n",
            "Ulysses Mission (Tier 2)*, (no serial number or\n",
            "    GPO number, but\n",
            "probably available from NTIS or NASA) June 1990.\n",
            "    [DOE 1980] U.S.\n",
            "Department of Energy, *Transuranic Elements in the\n",
            "    Environment*,\n",
            "Wayne C.  Hanson, editor; DOE Document No.  DOE/TIC-22800;\n",
            "Government Printing Office, Washington, D.C., April 1980.)\n",
            "    From\n",
            "time to time, claims are made that chemicals released from\n",
            "    the\n",
            "Space Shuttle's Solid Rocket Boosters (SRBs) are responsible\n",
            "    for a\n",
            "significant amount of damage to the ozone layer.  Studies\n",
            "    indicate\n",
            "that they in reality have only a minute impact, both in\n",
            "    absolute\n",
            "terms and relative to other chemical sources.  The\n",
            "    remainder of\n",
            "this item is a response from the author of the quoted\n",
            "    study,\n",
            "Charles Jackman.\n",
            "    The atmospheric modelling study of the space\n",
            "shuttle effects on the\n",
            "    stratosphere involved three independent\n",
            "theoretical groups, and was\n",
            "    organized by Dr.  Michael Prather,\n",
            "NASA/Goddard Institute for Space\n",
            "    Studies.  The three groups\n",
            "involved Michael Prather and Maria Garcia\n",
            "    (NASA/GISS), Charlie\n",
            "Jackman and Anne Douglass (NASA/Goddard Space\n",
            "    Flight Center), and\n",
            "Malcolm Ko and Dak Sze (Atmospheric and\n",
            "    Environmental Research,\n",
            "Inc.).  The effort was to look at the effects\n",
            "    of the space shuttle\n",
            "and Titan rockets on the stratosphere.\n",
            "    The following are the\n",
            "estimated sources of stratospheric chlorine:\n",
            "       Industrial\n",
            "sources:    300,000,000 kilograms/year\n",
            "          Natural sources:\n",
            "75,000,000 kilograms/year\n",
            "          Shuttle sources:        725,000\n",
            "kilograms/year\n",
            "    The shuttle source assumes 9 space shuttles and 6\n",
            "Titan rockets are\n",
            "    launched yearly.  Thus the launches would add\n",
            "less than 0.25% to the\n",
            "    total stratospheric chlorine sources.\n",
            "The effect on ozone is minimal:  global yearly average total ozone\n",
            "would\n",
            "    be decreased by 0.0065%. This is much less than total ozone\n",
            "variability\n",
            "    associated with volcanic activity and solar flares.\n",
            "The influence of human-made chlorine products on ozone is computed\n",
            "by atmospheric model calculations to be a 1% decrease in globally\n",
            "averaged ozone between 1980 and 1990. The influence of the space\n",
            "shuttle and\n",
            "    Titan rockets on the stratosphere is negligible.  The\n",
            "launch\n",
            "    schedule of the Space Shuttle and Titan rockets would need\n",
            "to be\n",
            "    increased by over a factor of a hundred in order to have\n",
            "about\n",
            "    the same effect on ozone as our increases in industrial\n",
            "halocarbons\n",
            "    do at the present time.\n",
            "    Theoretical results of\n",
            "this study have been published in _The Space\n",
            "    Shuttle's Impact on\n",
            "the Stratosphere_, MJ Prather, MM Garcia, AR\n",
            "    Douglass, CH Jackman,\n",
            "M.K.W. Ko and N.D. Sze, Journal of Geophysical\n",
            "    Research, 95,\n",
            "18583-18590, 1990.\n",
            "    Charles Jackman, Atmospheric Chemistry and\n",
            "Dynamics Branch,\n",
            "    Code 916, NASA/Goddard Space Flight Center,\n",
            "Greenbelt, MD  20771\n",
            "    Also see _Chemical Rockets and the\n",
            "Environment_, A McDonald, R Bennett,\n",
            "    J Hinshaw, and M Barnes,\n",
            "Aerospace America, May 1991.\n",
            "    If you *don't* try to hold your\n",
            "breath, exposure to space for half a\n",
            "    minute or so is unlikely to\n",
            "produce permanent injury.  Holding your\n",
            "    breath is likely to damage\n",
            "your lungs, something scuba divers have to\n",
            "    watch out for when\n",
            "ascending, and you'll have eardrum trouble if your\n",
            "    Eustachian\n",
            "tubes are badly plugged up, but theory predicts -- and animal\n",
            "experiments confirm -- that otherwise, exposure to vacuum causes no\n",
            "immediate injury.  You do not explode.  Your blood does not boil.  You\n",
            "do\n",
            "    not freeze.  You do not instantly lose consciousness.\n",
            "Various minor problems (sunburn, possibly \"the bends\", certainly some\n",
            "[mild, reversible, painless] swelling of skin and underlying tissue)\n",
            "start after ten seconds or so.  At some point you lose consciousness\n",
            "from\n",
            "    lack of oxygen.  Injuries accumulate.  After perhaps one or\n",
            "two minutes,\n",
            "    you're dying.  The limits are not really known.\n",
            "References:\n",
            "    _The Effect on the Chimpanzee of Rapid Decompression\n",
            "to a Near Vacuum_,\n",
            "    Alfred G. Koestler ed., NASA CR-329 (Nov 1965).\n",
            "_Experimental Animal Decompression to a Near Vacuum Environment_, R.W.\n",
            "Bancroft, J.E. Dunn, eds, Report SAM-TR-65-48 (June 1965), USAF School\n",
            "of Aerospace Medicine, Brooks AFB, Texas.\n",
            "    The Challenger shuttle\n",
            "launch was not destroyed in an explosion.  This is\n",
            "    a well-\n",
            "documented fact; see the Rogers Commission report, for example.\n",
            "What looked like an explosion was fuel burning after the external tank\n",
            "came apart.  The forces on the crew cabin were not sufficient to kill\n",
            "the\n",
            "    astronauts, never mind destroy their bodies, according to the\n",
            "Kerwin\n",
            "    team's medical/forensic report.\n",
            "    The astronauts were\n",
            "killed when the more-or-less intact cabin hit the\n",
            "    water at circa\n",
            "200MPH, and their bodies then spent several weeks\n",
            "    underwater.\n",
            "Their remains were recovered, and after the Kerwin team\n",
            "    examined\n",
            "them, they were sent off to be buried.\n",
            "    You can't use the shuttle\n",
            "orbiter for missions beyond low Earth orbit\n",
            "    because it can't get\n",
            "there.  It is big and heavy and does not carry\n",
            "    enough fuel, even\n",
            "if you fill part of the cargo bay with tanks.\n",
            "    Furthermore, it is\n",
            "not particularly sensible to do so, because much of\n",
            "    that weight is\n",
            "things like wings, which are totally useless except in\n",
            "    the\n",
            "immediate vicinity of the Earth.  The shuttle orbiter is highly\n",
            "specialized for travel between Earth's surface and low orbit.  Taking\n",
            "it\n",
            "    higher is enormously costly and wasteful.  A much better\n",
            "approach would\n",
            "    be to use shuttle subsystems to build a specialized\n",
            "high-orbit\n",
            "    spacecraft.\n",
            "    [Yet another concise answer by Henry\n",
            "Spencer.]\n",
            "    There really is a big rock on Mars that looks remarkably\n",
            "like a humanoid\n",
            "    face.  It appears in two different frames of\n",
            "Viking Orbiter imagery:\n",
            "    35A72 (much more facelike in appearance,\n",
            "and the one more often\n",
            "    published, with the Sun 10 degrees above\n",
            "western horizon) and 70A13\n",
            "    (with the Sun 27 degrees from the\n",
            "west).\n",
            "    Science writer Richard Hoagland has championed the idea\n",
            "that the Face is\n",
            "    artificial, intended to resemble a human, and\n",
            "erected by an\n",
            "    extraterrestrial civilization.  Most other analysts\n",
            "concede that the\n",
            "    resemblance is most likely accidental.  Other\n",
            "Viking images show a\n",
            "    smiley-faced crater and a lava flow\n",
            "resembling Kermit the Frog elsewhere\n",
            "    on Mars.  There exists a Mars\n",
            "Anomalies Research Society (sorry, don't\n",
            "    know the address) to\n",
            "study the Face.\n",
            "    The Mars Observer mission will carry an extremely\n",
            "high-resolution\n",
            "    camera, and better images of the formation will\n",
            "hopefully settle this\n",
            "    question in a few years.  In the meantime,\n",
            "speculation about the Face is\n",
            "    best carried on in the altnet group\n",
            "alt.alien.visitors, not sci.space or\n",
            "    sci.astro.\n",
            "    V. DiPeitro\n",
            "and G. Molenaar, *Unusual Martian Surface Features*, Mars\n",
            "Research, P.O. Box 284, Glen Dale, Maryland, USA, 1982. $18 by mail.\n",
            "R.R. Pozos, *The Face of Mars*, Chicago Review Press, 1986. [Account\n",
            "of\n",
            "    an interdisciplinary speculative conference Hoagland organized\n",
            "to\n",
            "    investigate the Face]\n",
            "    R.C. Hoagland, *The Monuments of\n",
            "Mars: A City on the Edge of Forever*,\n",
            "    North Atlantic Books,\n",
            "Berkeley, California, USA, 1987. [Elaborate\n",
            "    discussion of evidence\n",
            "and speculation that formations near the Face\n",
            "    form a city]\n",
            "M.J. Carlotto, \"Digital Imagery Analysis of Unusual Martian Surface\n",
            "Features,\" *Applied Optics*, 27, pp.  1926-1933, 1987. [Extracts\n",
            "three-dimensional model for the Face from the 2-D images]\n",
            "    M.J.\n",
            "Carlotto & M.C. Stein, \"A Method of Searching for Artificial\n",
            "Objects on Planetary Surfaces,\" *Journal of the British Interplanetary\n",
            "Society*, Vol.  43 no.  5 (May 1990), p.209-216. [Uses a fractal image\n",
            "analysis model to guess whether the Face is artificial]\n",
            "    B.\n",
            "O'Leary, \"Analysis of Images of the `Face' on Mars and Possible\n",
            "Intelligent Origin,\" *JBIS*, Vol.  43 no.  5 (May 1990), p.  203-208.\n",
            "[Lights Carlotto's model from the two angles and shows it's\n",
            "consistent;\n",
            "    shows that the Face doesn't look facelike if observed\n",
            "from the surface]\n",
            "NEXT: FAQ #13/15 - Space activist/interest/research\n",
            "groups & space publications\n"
          ]
        }
      ]
    },
    {
      "cell_type": "markdown",
      "source": [
        "Tokenize the document into sentences"
      ],
      "metadata": {
        "id": "3AudTcthEKF8"
      }
    },
    {
      "cell_type": "code",
      "source": [
        "sentences = nltk.sent_tokenize(doc.iloc[0].split(\"\\n\", 1)[1])"
      ],
      "metadata": {
        "id": "DvKkzuapFPyO"
      },
      "execution_count": 126,
      "outputs": []
    },
    {
      "cell_type": "code",
      "source": [
        "sentences"
      ],
      "metadata": {
        "colab": {
          "base_uri": "https://localhost:8080/"
        },
        "id": "vmCrnTOYXSTz",
        "outputId": "1b97a60a-b17c-4882-9441-0a7dcf40ea65"
      },
      "execution_count": 127,
      "outputs": [
        {
          "output_type": "execute_result",
          "data": {
            "text/plain": [
              "['Last-modified: $Date: 93/04/01 14:39:06 $\\n    These issues periodically come up with much argument and few facts being\\n    offered.',\n",
              " 'The summaries below attempt to represent the position on which\\n    much of the net community has settled.',\n",
              " \"Please DON'T bring them up again\\n    unless there's something truly new to be discussed.\",\n",
              " \"The net can't set\\n    public policy, that's what your representatives are for.\",\n",
              " 'Despite a widespread belief to the contrary, the Saturn V blueprints\\n    have not been lost.',\n",
              " 'They are kept at Marshall Space Flight Center on\\n    microfilm.',\n",
              " \"The problem in re-creating the Saturn V is not finding the drawings, it\\n    is finding vendors who can supply mid-1960's vintage hardware (like\\n    guidance system components), and the fact that the launch pads and VAB\\n    have been converted to Space Shuttle use, so you have no place to launch\\n    from.\",\n",
              " 'By the time you redesign to accommodate available hardware and re-modify\\n    the launch pads, you may as well have started from scratch with a clean\\n    sheet design.',\n",
              " 'Investigators associated with NASA missions are allowed exclusive access\\n    for one year after the data is obtained in order to give them an\\n    opportunity to analyze the data and publish results without being\\n    \"scooped\" by people uninvolved in the mission.',\n",
              " 'However, NASA frequently\\n    releases examples (in non-digital form, e.g.',\n",
              " 'photos) to the public early\\n    in a mission.',\n",
              " 'There has been extensive discussion on this topic sparked by attempts to\\n    block the Galileo and Ulysses launches on grounds of the plutonium\\n    thermal sources being dangerous.',\n",
              " 'Numerous studies claim that even in\\n    worst-case scenarios (shuttle explosion during launch, or accidental\\n    reentry at interplanetary velocities), the risks are extremely small.',\n",
              " 'Two interesting data points are (1) The May 1968 loss of two SNAP 19B2\\n    RTGs, which landed intact in the Pacific Ocean after a Nimbus B weather\\n    satellite failed to reach orbit.',\n",
              " 'The fuel was recovered after 5 months\\n    with no release of plutonium.',\n",
              " '(2) In April 1970, the Apollo 13 lunar\\n    module reentered the atmosphere and its SNAP 27 RTG heat source, which\\n    was jettisoned, fell intact into the 20,000 feet deep Tonga Trench in\\n    the Pacific Ocean.',\n",
              " 'The corrosion resistant materials of the RTG are\\n    expected to prevent release of the fuel for a period of time equal to 10\\n    half-lives of the Pu-238 fuel or about 870 years [DOE 1980].',\n",
              " 'To make your own informed judgement, some references you may wish to\\n    pursue are:\\n    A good review of the technical facts and issues is given by Daniel\\n    Salisbury in \"Radiation Risk and Planetary Exploration-- The RTG\\n    Controversy,\" *Planetary Report*, May-June 1987, pages 3-7.',\n",
              " 'Another good\\n    article, which also reviews the events preceding Galileo\\'s launch,\\n    \"Showdown at Pad 39-B,\" by Robert G. Nichols, appeared in the November\\n    1989 issue of *Ad Astra*.',\n",
              " '(Both magazines are published by pro-space\\n    organizations, the Planetary Society and the National Space Society\\n    respectively.)',\n",
              " 'Gordon L Chipman, Jr., \"Advanced Space Nuclear Systems\" (AAS 82-261), in\\n    *Developing the Space Frontier*, edited by Albert Naumann and Grover\\n    Alexander, Univelt, 1983, p. 193-213.',\n",
              " '\"Hazards from Plutonium Toxicity\", by Bernard L. Cohen, Health Physics,\\n    Vol 32 (may) 1977, page 359-379.',\n",
              " 'NUS Corporation, Safety Status Report for the Ulysses Mission: Risk\\n    Analysis (Book 1).',\n",
              " 'Document number is NUS 5235; there is no GPO #;\\n    published Jan 31, 1990.',\n",
              " 'NASA Office of Space Science and Applications, *Final Environmental\\n    Impact Statement for the Ulysses Mission (Tier 2)*, (no serial number or\\n    GPO number, but probably available from NTIS or NASA) June 1990.',\n",
              " '[DOE 1980] U.S.  Department of Energy, *Transuranic Elements in the\\n    Environment*, Wayne C.  Hanson, editor; DOE Document No.',\n",
              " 'DOE/TIC-22800;\\n    Government Printing Office, Washington, D.C., April 1980.)',\n",
              " \"From time to time, claims are made that chemicals released from\\n    the Space Shuttle's Solid Rocket Boosters (SRBs) are responsible\\n    for a significant amount of damage to the ozone layer.\",\n",
              " 'Studies\\n    indicate that they in reality have only a minute impact, both in\\n    absolute terms and relative to other chemical sources.',\n",
              " 'The\\n    remainder of this item is a response from the author of the quoted\\n    study, Charles Jackman.',\n",
              " 'The atmospheric modelling study of the space shuttle effects on the\\n    stratosphere involved three independent theoretical groups, and was\\n    organized by Dr. Michael Prather, NASA/Goddard Institute for Space\\n    Studies.',\n",
              " 'The three groups involved Michael Prather and Maria Garcia\\n    (NASA/GISS), Charlie Jackman and Anne Douglass (NASA/Goddard Space\\n    Flight Center), and Malcolm Ko and Dak Sze (Atmospheric and\\n    Environmental Research, Inc.).',\n",
              " 'The effort was to look at the effects\\n    of the space shuttle and Titan rockets on the stratosphere.',\n",
              " 'The following are the estimated sources of stratospheric chlorine:\\n       Industrial sources:    300,000,000 kilograms/year\\n\\t  Natural sources:     75,000,000 kilograms/year\\n\\t  Shuttle sources:\\t  725,000 kilograms/year\\n    The shuttle source assumes 9 space shuttles and 6 Titan rockets are\\n    launched yearly.',\n",
              " 'Thus the launches would add less than 0.25% to the\\n    total stratospheric chlorine sources.',\n",
              " 'The effect on ozone is minimal:  global yearly average total ozone would\\n    be decreased by 0.0065%.',\n",
              " 'This is much less than total ozone variability\\n    associated with volcanic activity and solar flares.',\n",
              " 'The influence of human-made chlorine products on ozone is computed\\n    by atmospheric model calculations to be a 1% decrease in globally\\n    averaged ozone between 1980 and 1990.',\n",
              " 'The influence of the space shuttle and\\n    Titan rockets on the stratosphere is negligible.',\n",
              " 'The launch\\n    schedule of the Space Shuttle and Titan rockets would need to be\\n    increased by over a factor of a hundred in order to have about\\n    the same effect on ozone as our increases in industrial halocarbons\\n    do at the present time.',\n",
              " \"Theoretical results of this study have been published in _The Space\\n    Shuttle's Impact on the Stratosphere_, MJ Prather, MM Garcia, AR\\n    Douglass, CH Jackman, M.K.W.\",\n",
              " 'Ko and N.D. Sze, Journal of Geophysical\\n    Research, 95, 18583-18590, 1990.',\n",
              " 'Charles Jackman, Atmospheric Chemistry and Dynamics Branch,\\n    Code 916, NASA/Goddard Space Flight Center,\\n    Greenbelt, MD  20771\\n    Also see _Chemical Rockets and the Environment_, A McDonald, R Bennett,\\n    J Hinshaw, and M Barnes, Aerospace America, May 1991.',\n",
              " \"If you *don't* try to hold your breath, exposure to space for half a\\n    minute or so is unlikely to produce permanent injury.\",\n",
              " \"Holding your\\n    breath is likely to damage your lungs, something scuba divers have to\\n    watch out for when ascending, and you'll have eardrum trouble if your\\n    Eustachian tubes are badly plugged up, but theory predicts -- and animal\\n    experiments confirm -- that otherwise, exposure to vacuum causes no\\n    immediate injury.\",\n",
              " 'You do not explode.',\n",
              " 'Your blood does not boil.',\n",
              " 'You do\\n    not freeze.',\n",
              " 'You do not instantly lose consciousness.',\n",
              " 'Various minor problems (sunburn, possibly \"the bends\", certainly some\\n    [mild, reversible, painless] swelling of skin and underlying tissue)\\n    start after ten seconds or so.',\n",
              " 'At some point you lose consciousness from\\n    lack of oxygen.',\n",
              " 'Injuries accumulate.',\n",
              " \"After perhaps one or two minutes,\\n    you're dying.\",\n",
              " 'The limits are not really known.',\n",
              " 'References:\\n    _The Effect on the Chimpanzee of Rapid Decompression to a Near Vacuum_,\\n    Alfred G. Koestler ed., NASA CR-329 (Nov 1965).',\n",
              " '_Experimental Animal Decompression to a Near Vacuum Environment_, R.W.',\n",
              " 'Bancroft, J.E.',\n",
              " 'Dunn, eds, Report SAM-TR-65-48 (June 1965), USAF School\\n    of Aerospace Medicine, Brooks AFB, Texas.',\n",
              " 'The Challenger shuttle launch was not destroyed in an explosion.',\n",
              " 'This is\\n    a well-documented fact; see the Rogers Commission report, for example.',\n",
              " 'What looked like an explosion was fuel burning after the external tank\\n    came apart.',\n",
              " \"The forces on the crew cabin were not sufficient to kill the\\n    astronauts, never mind destroy their bodies, according to the Kerwin\\n    team's medical/forensic report.\",\n",
              " 'The astronauts were killed when the more-or-less intact cabin hit the\\n    water at circa 200MPH, and their bodies then spent several weeks\\n    underwater.',\n",
              " 'Their remains were recovered, and after the Kerwin team\\n    examined them, they were sent off to be buried.',\n",
              " \"You can't use the shuttle orbiter for missions beyond low Earth orbit\\n    because it can't get there.\",\n",
              " 'It is big and heavy and does not carry\\n    enough fuel, even if you fill part of the cargo bay with tanks.',\n",
              " 'Furthermore, it is not particularly sensible to do so, because much of\\n    that weight is things like wings, which are totally useless except in\\n    the immediate vicinity of the Earth.',\n",
              " \"The shuttle orbiter is highly\\n    specialized for travel between Earth's surface and low orbit.\",\n",
              " 'Taking it\\n    higher is enormously costly and wasteful.',\n",
              " 'A much better approach would\\n    be to use shuttle subsystems to build a specialized high-orbit\\n    spacecraft.',\n",
              " '[Yet another concise answer by Henry Spencer.]',\n",
              " 'There really is a big rock on Mars that looks remarkably like a humanoid\\n    face.',\n",
              " 'It appears in two different frames of Viking Orbiter imagery:\\n    35A72 (much more facelike in appearance, and the one more often\\n    published, with the Sun 10 degrees above western horizon) and 70A13\\n    (with the Sun 27 degrees from the west).',\n",
              " 'Science writer Richard Hoagland has championed the idea that the Face is\\n    artificial, intended to resemble a human, and erected by an\\n    extraterrestrial civilization.',\n",
              " 'Most other analysts concede that the\\n    resemblance is most likely accidental.',\n",
              " 'Other Viking images show a\\n    smiley-faced crater and a lava flow resembling Kermit the Frog elsewhere\\n    on Mars.',\n",
              " \"There exists a Mars Anomalies Research Society (sorry, don't\\n    know the address) to study the Face.\",\n",
              " 'The Mars Observer mission will carry an extremely high-resolution\\n    camera, and better images of the formation will hopefully settle this\\n    question in a few years.',\n",
              " 'In the meantime, speculation about the Face is\\n    best carried on in the altnet group alt.alien.visitors, not sci.space or\\n    sci.astro.',\n",
              " 'V. DiPeitro and G. Molenaar, *Unusual Martian Surface Features*, Mars\\n    Research, P.O.',\n",
              " 'Box 284, Glen Dale, Maryland, USA, 1982.',\n",
              " '$18 by mail.',\n",
              " 'R.R.',\n",
              " 'Pozos, *The Face of Mars*, Chicago Review Press, 1986.',\n",
              " '[Account of\\n    an interdisciplinary speculative conference Hoagland organized to\\n    investigate the Face]\\n    R.C.',\n",
              " 'Hoagland, *The Monuments of Mars: A City on the Edge of Forever*,\\n    North Atlantic Books, Berkeley, California, USA, 1987.',\n",
              " '[Elaborate\\n    discussion of evidence and speculation that formations near the Face\\n    form a city]\\n    M.J. Carlotto, \"Digital Imagery Analysis of Unusual Martian Surface\\n    Features,\" *Applied Optics*, 27, pp.',\n",
              " '1926-1933, 1987.',\n",
              " '[Extracts\\n    three-dimensional model for the Face from the 2-D images]\\n    M.J. Carlotto & M.C.',\n",
              " 'Stein, \"A Method of Searching for Artificial\\n    Objects on Planetary Surfaces,\" *Journal of the British Interplanetary\\n    Society*, Vol.',\n",
              " '43 no.',\n",
              " '5 (May 1990), p.209-216.',\n",
              " '[Uses a fractal image\\n    analysis model to guess whether the Face is artificial]\\n    B. O\\'Leary, \"Analysis of Images of the `Face\\' on Mars and Possible\\n    Intelligent Origin,\" *JBIS*, Vol.',\n",
              " '43 no.',\n",
              " '5 (May 1990), p. 203-208.',\n",
              " \"[Lights Carlotto's model from the two angles and shows it's consistent;\\n    shows that the Face doesn't look facelike if observed from the surface]\\nNEXT: FAQ #13/15 - Space activist/interest/research groups & space publications\"]"
            ]
          },
          "metadata": {},
          "execution_count": 127
        }
      ]
    },
    {
      "cell_type": "markdown",
      "source": [
        "Calculate each sentence's TF-IDF score by computing the average TF-IDF score of every word in a sentece. Sentences are treated as documents and words as terms."
      ],
      "metadata": {
        "id": "9ZOrn3LdERpW"
      }
    },
    {
      "cell_type": "code",
      "source": [
        "vectorizer = TfidfVectorizer(\n",
        "    stop_words=stopwords.words('english'),\n",
        "    norm='l1',\n",
        ")"
      ],
      "metadata": {
        "id": "6ncgbd0gXDoY"
      },
      "execution_count": 128,
      "outputs": []
    },
    {
      "cell_type": "code",
      "source": [
        "X = vectorizer.fit_transform(sentences) # sentences x terms"
      ],
      "metadata": {
        "id": "Pmgbhf8QXGzn"
      },
      "execution_count": 129,
      "outputs": []
    },
    {
      "cell_type": "code",
      "source": [
        "scores = np.zeros(len(sentences))\n",
        "for i in range(len(sentences)):\n",
        "  current = X[i,:] # current sentence\n",
        "  score = current[current != 0].mean()\n",
        "  scores[i] = score"
      ],
      "metadata": {
        "colab": {
          "base_uri": "https://localhost:8080/"
        },
        "id": "8V6nGFcoadwF",
        "outputId": "f15e983e-e31b-4814-e35b-2fb0e9992936"
      },
      "execution_count": 142,
      "outputs": [
        {
          "output_type": "stream",
          "name": "stderr",
          "text": [
            "/usr/local/lib/python3.10/dist-packages/scipy/sparse/_base.py:645: RuntimeWarning: divide by zero encountered in divide\n",
            "  return self.astype(np.float_)._mul_scalar(1./other)\n"
          ]
        }
      ]
    },
    {
      "cell_type": "markdown",
      "source": [
        "Summarize based on TF-IDF scoring threshold"
      ],
      "metadata": {
        "id": "7-ZCCAmyEsXw"
      }
    },
    {
      "cell_type": "code",
      "source": [
        "threshold = .08\n",
        "\n",
        "for i in range(len(sentences)):\n",
        "  if scores[i]>=threshold:\n",
        "    print(wrap(\"%.3f: %s\" % (scores[i], sentences[i])))"
      ],
      "metadata": {
        "colab": {
          "base_uri": "https://localhost:8080/"
        },
        "id": "GLghfWmscdIv",
        "outputId": "ba1761a5-ec8d-4965-b8c5-ba5c32c77c43"
      },
      "execution_count": 143,
      "outputs": [
        {
          "output_type": "stream",
          "name": "stdout",
          "text": [
            "0.125: The summaries below attempt to represent the position on which\n",
            "much of the net community has settled.\n",
            "0.143: Please DON'T bring them up again\n",
            "    unless there's something\n",
            "truly new to be discussed.\n",
            "0.200: The net can't set\n",
            "    public policy, that's what your\n",
            "representatives are for.\n",
            "0.143: Despite a widespread belief to the contrary, the Saturn V\n",
            "blueprints\n",
            "    have not been lost.\n",
            "0.167: They are kept at Marshall Space Flight Center on\n",
            "    microfilm.\n",
            "0.125: However, NASA frequently\n",
            "    releases examples (in non-digital\n",
            "form, e.g.\n",
            "0.250: photos) to the public early\n",
            "    in a mission.\n",
            "0.200: The fuel was recovered after 5 months\n",
            "    with no release of\n",
            "plutonium.\n",
            "0.111: (Both magazines are published by pro-space\n",
            "    organizations,\n",
            "the Planetary Society and the National Space Society\n",
            "respectively.)\n",
            "0.100: NUS Corporation, Safety Status Report for the Ulysses Mission:\n",
            "Risk\n",
            "    Analysis (Book 1).\n",
            "0.111: Document number is NUS 5235; there is no GPO #;\n",
            "    published\n",
            "Jan 31, 1990.\n",
            "0.091: [DOE 1980] U.S.  Department of Energy, *Transuranic Elements in\n",
            "the\n",
            "    Environment*, Wayne C.  Hanson, editor; DOE Document No.\n",
            "0.111: DOE/TIC-22800;\n",
            "    Government Printing Office, Washington,\n",
            "D.C., April 1980.)\n",
            "0.100: Studies\n",
            "    indicate that they in reality have only a minute\n",
            "impact, both in\n",
            "    absolute terms and relative to other chemical\n",
            "sources.\n",
            "0.125: The\n",
            "    remainder of this item is a response from the author of\n",
            "the quoted\n",
            "    study, Charles Jackman.\n",
            "0.125: The effort was to look at the effects\n",
            "    of the space shuttle\n",
            "and Titan rockets on the stratosphere.\n",
            "0.100: Thus the launches would add less than 0.25% to the\n",
            "    total\n",
            "stratospheric chlorine sources.\n",
            "0.100: The effect on ozone is minimal:  global yearly average total\n",
            "ozone would\n",
            "    be decreased by 0.0065%.\n",
            "0.100: This is much less than total ozone variability\n",
            "    associated\n",
            "with volcanic activity and solar flares.\n",
            "0.143: The influence of the space shuttle and\n",
            "    Titan rockets on the\n",
            "stratosphere is negligible.\n",
            "0.111: Ko and N.D. Sze, Journal of Geophysical\n",
            "    Research, 95,\n",
            "18583-18590, 1990.\n",
            "0.091: If you *don't* try to hold your breath, exposure to space for\n",
            "half a\n",
            "    minute or so is unlikely to produce permanent injury.\n",
            "1.000: You do not explode.\n",
            "0.500: Your blood does not boil.\n",
            "1.000: You do\n",
            "    not freeze.\n",
            "0.333: You do not instantly lose consciousness.\n",
            "0.200: At some point you lose consciousness from\n",
            "    lack of oxygen.\n",
            "0.500: Injuries accumulate.\n",
            "0.200: After perhaps one or two minutes,\n",
            "    you're dying.\n",
            "0.333: The limits are not really known.\n",
            "0.167: _Experimental Animal Decompression to a Near Vacuum\n",
            "Environment_, R.W.\n",
            "1.000: Bancroft, J.E.\n",
            "0.200: The Challenger shuttle launch was not destroyed in an\n",
            "explosion.\n",
            "0.125: This is\n",
            "    a well-documented fact; see the Rogers Commission\n",
            "report, for example.\n",
            "0.111: What looked like an explosion was fuel burning after the\n",
            "external tank\n",
            "    came apart.\n",
            "0.143: Their remains were recovered, and after the Kerwin team\n",
            "examined them, they were sent off to be buried.\n",
            "0.111: You can't use the shuttle orbiter for missions beyond low Earth\n",
            "orbit\n",
            "    because it can't get there.\n",
            "0.091: It is big and heavy and does not carry\n",
            "    enough fuel, even if\n",
            "you fill part of the cargo bay with tanks.\n",
            "0.111: The shuttle orbiter is highly\n",
            "    specialized for travel\n",
            "between Earth's surface and low orbit.\n",
            "0.200: Taking it\n",
            "    higher is enormously costly and wasteful.\n",
            "0.083: A much better approach would\n",
            "    be to use shuttle subsystems\n",
            "to build a specialized high-orbit\n",
            "    spacecraft.\n",
            "0.167: [Yet another concise answer by Henry Spencer.]\n",
            "0.111: There really is a big rock on Mars that looks remarkably like a\n",
            "humanoid\n",
            "    face.\n",
            "0.200: Most other analysts concede that the\n",
            "    resemblance is most\n",
            "likely accidental.\n",
            "0.100: There exists a Mars Anomalies Research Society (sorry, don't\n",
            "know the address) to study the Face.\n",
            "0.125: V. DiPeitro and G. Molenaar, *Unusual Martian Surface\n",
            "Features*, Mars\n",
            "    Research, P.O.\n",
            "0.143: Box 284, Glen Dale, Maryland, USA, 1982.\n",
            "0.500: $18 by mail.\n",
            "0.143: Pozos, *The Face of Mars*, Chicago Review Press, 1986.\n",
            "0.125: [Account of\n",
            "    an interdisciplinary speculative conference\n",
            "Hoagland organized to\n",
            "    investigate the Face]\n",
            "    R.C.\n",
            "0.333: 1926-1933, 1987.\n",
            "0.143: [Extracts\n",
            "    three-dimensional model for the Face from the 2-D\n",
            "images]\n",
            "    M.J. Carlotto & M.C.\n",
            "0.083: Stein, \"A Method of Searching for Artificial\n",
            "    Objects on\n",
            "Planetary Surfaces,\" *Journal of the British Interplanetary\n",
            "Society*, Vol.\n",
            "1.000: 43 no.\n",
            "0.250: 5 (May 1990), p.209-216.\n",
            "1.000: 43 no.\n",
            "0.250: 5 (May 1990), p.  203-208.\n"
          ]
        }
      ]
    },
    {
      "cell_type": "markdown",
      "source": [
        "Summarize displaying N highest-scoring sentences"
      ],
      "metadata": {
        "id": "uyj1_tvhEvzK"
      }
    },
    {
      "cell_type": "code",
      "source": [
        "# Number of sentences to display in summarization\n",
        "N = 14\n",
        "\n",
        "sort_idx = np.argsort(-scores)\n",
        "for i in np.sort(sort_idx[0:N]):\n",
        "  print(wrap(\"%.3f: %s\" % (scores[i], sentences[i])))"
      ],
      "metadata": {
        "colab": {
          "base_uri": "https://localhost:8080/"
        },
        "id": "YXrNij5FjrJe",
        "outputId": "f2585cd7-4c38-49a3-9287-475e06c301ce"
      },
      "execution_count": 145,
      "outputs": [
        {
          "output_type": "stream",
          "name": "stdout",
          "text": [
            "0.250: photos) to the public early\n",
            "    in a mission.\n",
            "1.000: You do not explode.\n",
            "0.500: Your blood does not boil.\n",
            "1.000: You do\n",
            "    not freeze.\n",
            "0.333: You do not instantly lose consciousness.\n",
            "0.500: Injuries accumulate.\n",
            "0.333: The limits are not really known.\n",
            "1.000: Bancroft, J.E.\n",
            "0.500: $18 by mail.\n",
            "0.333: 1926-1933, 1987.\n",
            "1.000: 43 no.\n",
            "0.250: 5 (May 1990), p.209-216.\n",
            "1.000: 43 no.\n",
            "0.250: 5 (May 1990), p.  203-208.\n"
          ]
        }
      ]
    },
    {
      "cell_type": "code",
      "source": [
        "Create a Summarization Function"
      ],
      "metadata": {
        "id": "S_PniXimE4c0"
      },
      "execution_count": null,
      "outputs": []
    },
    {
      "cell_type": "code",
      "source": [
        "def summarize_w_threshold(sentences, scores, threshold):\n",
        "  for i in range(len(sentences)):\n",
        "    if scores[i]>=threshold:\n",
        "      print(wrap(sentences[i]))\n",
        "\n",
        "\n",
        "def summarize_w_num_of_sentences(sentences, scores, N):\n",
        "    if N > len(sentences):\n",
        "        print(\"Warning: N exceeds the number of sentences. The entire text will be summarized.\")\n",
        "        N = len(sentences)\n",
        "    sort_idx = np.argsort(-scores)\n",
        "    for i in np.sort(sort_idx[0:N]):\n",
        "        print(wrap(sentences[i]))\n",
        "\n",
        "\n",
        "def Text_Summarization_w_Tfidf(doc, mode=1,threshold=.05,N=2):\n",
        "  # mode = 0 summarizes based on TF-IDF scoring threshold -> threshold is used\n",
        "  # mode = 1 summarizes displaying the N TF-IDF highest-scoring sentences -> N is used\n",
        "\n",
        "  # split doc into sentences\n",
        "  sentences = nltk.sent_tokenize(doc.iloc[0].split(\"\\n\", 1)[1])\n",
        "\n",
        "  # set-up vectorizer element\n",
        "  vectorizer = TfidfVectorizer(\n",
        "    stop_words=stopwords.words('english'),\n",
        "    norm='l1')\n",
        "\n",
        "  scores = np.zeros(len(sentences))\n",
        "  for i in range(len(sentences)):\n",
        "    current = X[i,:] # current sentence\n",
        "    score = current[current != 0].mean()\n",
        "    scores[i] = score\n",
        "\n",
        "  if mode == 0 :\n",
        "    summarize_w_threshold(sentences, scores, threshold)\n",
        "  elif mode == 1 :\n",
        "    summarize_w_num_of_sentences(sentences, scores, N)\n",
        "  else:\n",
        "    print(\"Please try again with mode=0 or mode=1\")"
      ],
      "metadata": {
        "id": "WnWgSwYOlNXc"
      },
      "execution_count": 146,
      "outputs": []
    },
    {
      "cell_type": "markdown",
      "source": [
        "Choose another document to summarize"
      ],
      "metadata": {
        "id": "4WNL-RKME-Ui"
      }
    },
    {
      "cell_type": "code",
      "source": [
        "doc = df[df.label == 'business']['text'].sample(random_state=120)"
      ],
      "metadata": {
        "id": "50NSuKFjtLO4"
      },
      "execution_count": 153,
      "outputs": []
    },
    {
      "cell_type": "markdown",
      "source": [
        "Summarize the new document based on TF-IDF scoring threshold"
      ],
      "metadata": {
        "id": "5wgl0ZKeFHp6"
      }
    },
    {
      "cell_type": "code",
      "source": [
        "Text_Summarization_w_Tfidf(doc,mode=0,threshold=.097)"
      ],
      "metadata": {
        "colab": {
          "base_uri": "https://localhost:8080/"
        },
        "id": "B_CyFXNvpAwz",
        "outputId": "620ca950-12d3-4fa6-fbd3-673736d42aa6"
      },
      "execution_count": 155,
      "outputs": [
        {
          "output_type": "stream",
          "name": "stdout",
          "text": [
            "The London FTSE fell 0.8% while Tokyo's Nikkei 225 dropped 2.11%, its\n",
            "steepest fall in three months.\n",
            "G20 finance ministers said nothing about supporting the dollar, whose\n",
            "slide could further jeopardise growth in Japan and Europe.\n",
            "And Mr Greenspan warned Asian states could soon stop funding the US\n",
            "deficit.\n",
            "On Monday afternoon, the euro was close to an all-time high against\n",
            "the dollar at above $1.30.\n",
            "Oil pushed higher too on Monday, as investors fretted about cold\n",
            "weather in the US and Europe and a potential output cut from oil\n",
            "producers' group Opec, although prices had cooled by the end of the\n",
            "day.\n",
            "Together with a $500bn trade gap, the red ink spreading across\n",
            "America's public finances is widely seen as a key factor driving the\n",
            "dollar lower.\n",
            "And last week US Treasury Secretary John Snow told an audience in the\n",
            "UK that the policy remained unaltered.\n",
            "For the US government, letting the dollar drift is a useful short-term\n",
            "fix.\n",
            "Similarly, Asian investment helps bridge the gap in the current\n",
            "account - the deficit between what the US as a whole spends and what\n",
            "it earns.\n",
            "\"It seems persuasive that, given the size of the US current account\n",
            "deficit, a diminished appetite for adding to dollar balances must\n",
            "occur at some point,\" he said.\n"
          ]
        }
      ]
    },
    {
      "cell_type": "markdown",
      "source": [
        "Summarize the new document displaying N highest-scoring sentences"
      ],
      "metadata": {
        "id": "DW-dX95gFPtq"
      }
    },
    {
      "cell_type": "code",
      "source": [
        "Text_Summarization_w_Tfidf(doc,mode=1,N=5)"
      ],
      "metadata": {
        "colab": {
          "base_uri": "https://localhost:8080/"
        },
        "id": "fB9vK3sNtI-Q",
        "outputId": "75bf1622-b856-4390-e724-4f5a375d277d"
      },
      "execution_count": 156,
      "outputs": [
        {
          "output_type": "stream",
          "name": "stdout",
          "text": [
            "G20 finance ministers said nothing about supporting the dollar, whose\n",
            "slide could further jeopardise growth in Japan and Europe.\n",
            "And Mr Greenspan warned Asian states could soon stop funding the US\n",
            "deficit.\n",
            "Oil pushed higher too on Monday, as investors fretted about cold\n",
            "weather in the US and Europe and a potential output cut from oil\n",
            "producers' group Opec, although prices had cooled by the end of the\n",
            "day.\n",
            "And last week US Treasury Secretary John Snow told an audience in the\n",
            "UK that the policy remained unaltered.\n",
            "For the US government, letting the dollar drift is a useful short-term\n",
            "fix.\n"
          ]
        }
      ]
    },
    {
      "cell_type": "markdown",
      "source": [
        "Try a very large N"
      ],
      "metadata": {
        "id": "hbq6v_AeFUoK"
      }
    },
    {
      "cell_type": "code",
      "source": [
        "Text_Summarization_w_Tfidf(doc,mode=1,N=10000)"
      ],
      "metadata": {
        "colab": {
          "base_uri": "https://localhost:8080/"
        },
        "id": "HZq_Du6atDYH",
        "outputId": "89c47513-8e37-48c3-d6eb-ebbde09bfafc"
      },
      "execution_count": 159,
      "outputs": [
        {
          "output_type": "stream",
          "name": "stdout",
          "text": [
            "Warning: N exceeds the number of sentences. The entire text will be summarized.\n",
            "\n",
            "Rising oil prices and the sinking dollar hit shares on Monday after a\n",
            "finance ministers' meeting and stern words from Fed chief Alan\n",
            "Greenspan.\n",
            "The London FTSE fell 0.8% while Tokyo's Nikkei 225 dropped 2.11%, its\n",
            "steepest fall in three months.\n",
            "G20 finance ministers said nothing about supporting the dollar, whose\n",
            "slide could further jeopardise growth in Japan and Europe.\n",
            "And Mr Greenspan warned Asian states could soon stop funding the US\n",
            "deficit.\n",
            "On Monday afternoon, the euro was close to an all-time high against\n",
            "the dollar at above $1.30.\n",
            "Oil pushed higher too on Monday, as investors fretted about cold\n",
            "weather in the US and Europe and a potential output cut from oil\n",
            "producers' group Opec, although prices had cooled by the end of the\n",
            "day.\n",
            "In London, the benchmark Brent crude price closed down 51 cents at\n",
            "$44.38 a barrel, while New York light sweet crude closed down 25 cents\n",
            "at $48.64 a barrel.\n",
            "The slide comes as the US has been attempting to talk up the\n",
            "traditional \"strong dollar\" policy.\n",
            "The latest to pitch in has been President George W Bush himself, who\n",
            "told the Asia Pacific Economic Co-operation (Apec) summit in Chile\n",
            "that he remained committed to halving the budget deficit.\n",
            "Together with a $500bn trade gap, the red ink spreading across\n",
            "America's public finances is widely seen as a key factor driving the\n",
            "dollar lower.\n",
            "And last week US Treasury Secretary John Snow told an audience in the\n",
            "UK that the policy remained unaltered.\n",
            "But he also said that the rate was entirely up to the markets - a\n",
            "signal which traders took as advice to sell the dollar.\n",
            "Some had looked to the G20 meeting for direction.\n",
            "But Mr Snow made clear exchange rates had not been on the agenda.\n",
            "For the US government, letting the dollar drift is a useful short-term\n",
            "fix.\n",
            "US exports get more affordable, helping perhaps to close the trade\n",
            "gap.\n",
            "In the meantime, the debt keeps getting bigger, with Congress\n",
            "authorising an $800bn rise in what the US can owe - taking the total\n",
            "to $8.2 trillion.\n",
            "But in a speech on Friday, Federal Reserve chairman Alan Greenspan\n",
            "warned that in the longer term things are likely to get tricky.\n",
            "At present, much of gap in both public debt is covered by selling\n",
            "bonds to Asian states such as Japan and China, since the dollar is\n",
            "seen as the world's reserve currency.\n",
            "Similarly, Asian investment helps bridge the gap in the current\n",
            "account - the deficit between what the US as a whole spends and what\n",
            "it earns.\n",
            "But already they are turning more cautious - an auction of debt in\n",
            "August found few takers.\n",
            "And Mr Greenspan said that could turn into a trend, if the fall of the\n",
            "dollar kept eating into the value of those investments.\n",
            "\"It seems persuasive that, given the size of the US current account\n",
            "deficit, a diminished appetite for adding to dollar balances must\n",
            "occur at some point,\" he said.\n"
          ]
        }
      ]
    }
  ]
}