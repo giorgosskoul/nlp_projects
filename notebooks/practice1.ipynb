{
 "cells": [
  {
   "cell_type": "code",
   "execution_count": 95,
   "id": "e1b1546f-1c0a-4fe2-b326-3e7239342738",
   "metadata": {},
   "outputs": [],
   "source": [
    "# Import Libraries (1)\n",
    "#-----------------------------------------------------------#\n",
    "\n",
    "## NLP ##\n",
    "import nltk\n",
    "from nltk import pos_tag\n",
    "from nltk.stem import PorterStemmer, WordNetLemmatizer\n",
    "from nltk.corpus import wordnet, stopwords\n",
    "from collections import Counter\n",
    "## Data ##\n",
    "import numpy as np\n",
    "import pandas as pd\n",
    "## ML ##\n",
    "from sklearn.feature_extraction.text import CountVectorizer\n",
    "from sklearn.naive_bayes import MultinomialNB\n",
    "from sklearn.model_selection import train_test_split"
   ]
  },
  {
   "cell_type": "code",
   "execution_count": 49,
   "id": "c75768cb-2add-4eba-be4a-d370d54c9671",
   "metadata": {},
   "outputs": [],
   "source": [
    "# INPUTS (2)\n",
    "#-----------------------------------------------------------#\n",
    "\n",
    "text = \"All Elite Wrestling (AEW) is an American professional wrestling promotion based in Jacksonville, Florida. It is one of the largest wrestling promotions in the United States along with WWE. AEW is owned by Shahid Khan and his son Tony, who founded the company in 2019; in-ring performers Matt and Nick Jackson and Kenny Omega also serve as company executives. Its headquarters is at TIAA Bank Field, the home of the National Football League's Jacksonville Jaguars, a team also owned by Shahid Khan.\""
   ]
  },
  {
   "cell_type": "code",
   "execution_count": 84,
   "id": "31bceb3a-23d9-4e75-8dfd-ff12abd352f2",
   "metadata": {},
   "outputs": [],
   "source": [
    "# NLP Predetermined Methods (3)\n",
    "#-----------------------------------------------------------#\n",
    "\n",
    "stop_words = set(stopwords.words(\"english\"))\n",
    "lemmatizer = WordNetLemmatizer()\n",
    "sentences = text.split(\".\")\n",
    "lemmatized_sentences = []\n",
    "lemmatized_words=[]\n",
    "lemmatized_sentences=[]"
   ]
  },
  {
   "cell_type": "code",
   "execution_count": 86,
   "id": "0c21cbd3-434c-4437-98b3-6535448c0bfc",
   "metadata": {},
   "outputs": [],
   "source": [
    "# Custom Functions (4)\n",
    "#-----------------------------------------------------------#\n",
    "\n",
    "def get_wordnet_pos(treebank_tag):\n",
    "    if treebank_tag.startswith('J'):\n",
    "        return wordnet.ADJ\n",
    "    elif treebank_tag.startswith('V'):\n",
    "        return wordnet.VERB\n",
    "    elif treebank_tag.startswith('N'):\n",
    "        return wordnet.NOUN\n",
    "    elif treebank_tag.startswith('R'):\n",
    "        return wordnet.ADV\n",
    "    else:\n",
    "        return wordnet.NOUN"
   ]
  },
  {
   "cell_type": "code",
   "execution_count": 89,
   "id": "97996d13-d39e-451a-bc47-bf0a080913e8",
   "metadata": {},
   "outputs": [],
   "source": [
    "# MAIN CODE (5)\n",
    "#-----------------------------------------------------------#\n",
    "\n",
    "for token in sentences:\n",
    "    words = token.split(\" \")\n",
    "    lemmatized_words.extend([lemmatizer.lemmatize(word.lower(), pos=get_wordnet_pos(tag))\n",
    "                             for word, tag in pos_tag(words) if word.lower() not in stop_words])\n",
    "    lemmatized_sentences.append(\" \".join(lemmatized_words))\n",
    "    \n",
    "lemmatized_text = \". \".join(lemmatized_sentences)\n",
    "lemmatized_words = lemmatized_text.split()\n",
    "print(Counter(pos_tag(lemmatized_words)))"
   ]
  }
 ],
 "metadata": {
  "kernelspec": {
   "display_name": "Python 3 (ipykernel)",
   "language": "python",
   "name": "python3"
  },
  "language_info": {
   "codemirror_mode": {
    "name": "ipython",
    "version": 3
   },
   "file_extension": ".py",
   "mimetype": "text/x-python",
   "name": "python",
   "nbconvert_exporter": "python",
   "pygments_lexer": "ipython3",
   "version": "3.10.9"
  }
 },
 "nbformat": 4,
 "nbformat_minor": 5
}
