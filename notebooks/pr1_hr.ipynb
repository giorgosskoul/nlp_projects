{
 "cells": [
  {
   "cell_type": "code",
   "execution_count": null,
   "id": "9cc86075-175f-425b-aafc-ee1a4e6b38e6",
   "metadata": {},
   "outputs": [
    {
     "name": "stdin",
     "output_type": "stream",
     "text": [
      "Type input:  2 3\n"
     ]
    }
   ],
   "source": [
    "user_input = input(\"Type input: \").split()\n",
    "F, N = map(int, user_input)\n",
    "\n",
    "table = []\n",
    "for _ in range(N):\n",
    "    row = list(map(float, input().split()))\n",
    "    table.append(row)\n"
   ]
  },
  {
   "cell_type": "code",
   "execution_count": null,
   "id": "209b8408-5ad1-463e-96c4-7995e5d611b8",
   "metadata": {},
   "outputs": [],
   "source": []
  }
 ],
 "metadata": {
  "kernelspec": {
   "display_name": "Python 3 (ipykernel)",
   "language": "python",
   "name": "python3"
  },
  "language_info": {
   "codemirror_mode": {
    "name": "ipython",
    "version": 3
   },
   "file_extension": ".py",
   "mimetype": "text/x-python",
   "name": "python",
   "nbconvert_exporter": "python",
   "pygments_lexer": "ipython3",
   "version": "3.10.9"
  }
 },
 "nbformat": 4,
 "nbformat_minor": 5
}
