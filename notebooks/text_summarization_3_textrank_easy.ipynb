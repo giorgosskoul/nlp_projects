{
 "cells": [
  {
   "cell_type": "code",
   "execution_count": 7,
   "id": "d66befc0-10e4-4c49-9b87-83e396fe6400",
   "metadata": {},
   "outputs": [],
   "source": [
    "import numpy as np\n",
    "import pandas as pd\n",
    "from sklearn.feature_extraction.text import TfidfVectorizer\n",
    "from nltk.tokenize import word_tokenize\n",
    "from nltk.corpus import stopwords\n",
    "from nltk.tokenize import sent_tokenize\n",
    "from sklearn.metrics.pairwise import cosine_similarity\n",
    "from scipy.ndimage import gaussian_filter1d"
   ]
  },
  {
   "cell_type": "code",
   "execution_count": 5,
   "id": "97d05b50-0ddb-4fc0-b1dd-e6805346c92b",
   "metadata": {},
   "outputs": [],
   "source": [
    "from sumy.summarizers.text_rank import TextRankSummarizer\n",
    "from sumy.summarizers.lsa import LsaSummarizer\n",
    "from sumy.parsers.plaintext import PlaintextParser\n",
    "from sumy.nlp.tokenizers import Tokenizer"
   ]
  },
  {
   "cell_type": "code",
   "execution_count": 8,
   "id": "a3fbc5be-80a4-4a69-b72d-8979aa3ca80b",
   "metadata": {},
   "outputs": [],
   "source": [
    "# Import file and load in dataframe\n",
    "#------------------------------------------------------------\n",
    "file ='bbc_text_cls.csv'\n",
    "# Load the CSV file into a DataFrame\n",
    "df = pd.read_csv(file, encoding=\"ISO-8859-1\")"
   ]
  },
  {
   "cell_type": "code",
   "execution_count": 9,
   "id": "f2a84f34-b190-4cfb-a520-2cb60a5a390c",
   "metadata": {},
   "outputs": [],
   "source": [
    "# For each doc, split by sentence\n",
    "#------------------------------------------------------------\n",
    "df_numpy = df['text'].to_numpy()\n",
    "docs = []\n",
    "for index, doc in enumerate(df_numpy):\n",
    "    # Split the text into sentences using nltk's sent_tokenize\n",
    "    sentences = sent_tokenize(doc)\n",
    "    docs.append(sentences)"
   ]
  },
  {
   "cell_type": "code",
   "execution_count": 10,
   "id": "3e565956-821f-49bc-ac7c-d3eab6d2ca04",
   "metadata": {},
   "outputs": [],
   "source": [
    "## --- FUNCTIONS ---\n",
    "\n",
    "# Function to print a document in a nice-readable format\n",
    "#------------------------------------------------------------\n",
    "def print_single_document(doc):\n",
    "    for i, sentence in enumerate(doc):\n",
    "        print(f\"{sentence}\")\n",
    "        if i < len(doc) - 1:\n",
    "            print()  # Add a blank line between sentences"
   ]
  },
  {
   "cell_type": "code",
   "execution_count": 11,
   "id": "235a3b5c-94fc-4396-b11f-fb729d2c3d45",
   "metadata": {},
   "outputs": [],
   "source": [
    "## CHOOSE DOCUMENT IN docs\n",
    "#------------------------------------------------------------\n",
    "doc_index = 2222"
   ]
  },
  {
   "cell_type": "code",
   "execution_count": 12,
   "id": "cad0aabc-ebc2-473b-864c-ba82bbce0253",
   "metadata": {
    "scrolled": true
   },
   "outputs": [
    {
     "name": "stdout",
     "output_type": "stream",
     "text": [
      "Be careful how you code\n",
      "\n",
      "A new European directive could put software writers at risk of legal action, warns former programmer and technology analyst Bill Thompson.\n",
      "\n",
      "If it gets its way, the Dutch government will conclude its presidency of the European Union by pushing through a controversial measure that has been rejected by the European Parliament, lacks majority support from national governments and will leave millions of European citizens in legal limbo and facing the possibility of court cases against them.\n",
      "\n",
      "If the new law was about border controls, defence or even the new constitution, then our TV screens would be full of experts agonising over the impact on our daily lives.\n",
      "\n",
      "Sadly for those who will be directly affected, the controversy concerns the patenting of computer programs, a topic that may excite the bloggers, campaigning groups and technical press but does not obsess Middle Britain.\n",
      "\n",
      "After all, how much fuss can you generate about the Directive on the Patentability of Computer-Implemented Inventions, and the way it amends Article 52 of the 1973 European Patent Convention?\n",
      "\n",
      "Yet if the new directive is nodded through at the next meeting of one of the EU's ministerial councils, as seems likely, it will allow programs to be patented in Europe just as they are in the US.\n",
      "\n",
      "Many observers of the computing scene, including myself, think the results will be disastrous for small companies, innovative programmers and the free and open source software movement.\n",
      "\n",
      "It will let large companies patent all sorts of ideas and give legal force to those who want to limit their competitors' use of really obvious ideas.\n",
      "\n",
      "In the US you cannot build a system that stores customer credit card details so that they can pay without having to re-enter them unless Amazon lets you, because they hold the patent on \"one-click\" online purchase.\n",
      "\n",
      "It is a small invention, but Amazon made it to the patent office first and now owns it.\n",
      "\n",
      "We are relatively free from this sort of thing over here, but perhaps not for long.\n",
      "\n",
      "The new proposals go back to 2002, although argument about patentability of software and computer-implemented inventions has been going on since at least the mid-1980s.\n",
      "\n",
      "They have come to a head now after a year in which proposals were made, endorsed by the Council of Ministers, radically modified by the European Parliament and then re-presented in their original form.\n",
      "\n",
      "Some national governments seem to be aware of the problems.\n",
      "\n",
      "Poland has rejected the proposal and Germany's main political parties have opposed it, but there is not enough opposition to guarantee their rejection.\n",
      "\n",
      "Early in December the British government held a consultation meeting with those who had commented on the proposals.\n",
      "\n",
      "Science Minister Lord Sainsbury went along to listen and outline the UK position, but according to those present, it was embarrassing to see how little the minister and his officials actually understood the issues concerned.\n",
      "\n",
      "The draft Directive is being put through the council as what is called an \"A\" item and can only be approved or rejected.\n",
      "\n",
      "No discussion or amendment is allowed.\n",
      "\n",
      "So why should we be worried?\n",
      "\n",
      "First, there is the abuse of the democratic process involved in disregarding the views of the parliament and abandoning all of their carefully argued amendments.\n",
      "\n",
      "This goes to the heart of the European project, and even those who do not care about software or patents should be worried.\n",
      "\n",
      "If coders are treated like this today, who is to say that it will not be you tomorrow?\n",
      "\n",
      "More directly, once software patents are granted then any programmer will have to worry that the code they are writing is infringing someone else's patent.\n",
      "\n",
      "This is not about stealing software, as code is already protected by copyright.\n",
      "\n",
      "Patents are not copyright, but something much stronger.\n",
      "\n",
      "A patent gives the owner the right to stop anyone else using their invention, even if the other person invented it separately.\n",
      "\n",
      "I have never, to my shame, managed to read Lord Byron's Childe Harold's Pilgrimage.\n",
      "\n",
      "If it was pointed out that one of my articles contained a substantial chunk of the poem then I could defend myself in court by claiming that I had simply made it up and it was coincidence.\n",
      "\n",
      "The same does not hold for a patent.\n",
      "\n",
      "If I sit down this afternoon and write a brilliant graphics compression routine and it happens to be the same as the LZW algorithm used in GIF files, then I am in trouble under patent law, at least in the US.\n",
      "\n",
      "Coincidence is no defence.\n",
      "\n",
      "The proposed directive is supported by many of the major software companies, but this is hardly surprising since most of them are US-based and they have already had to cope with a legal environment that allows patents.\n",
      "\n",
      "They have legal departments and, more crucially, patents of their own which they can trade or cross-license with other patent holders.\n",
      "\n",
      "Even this system breaks down, of course, as Microsoft found out last year when they initially lost a case brought by Eolas which claimed that Internet Explorer (and other browsers) infringed an Eolas patent.\n",
      "\n",
      "That one was eventually thrown out, but only after months of uncertainty and millions of dollars.\n",
      "\n",
      "But small companies, and the free and open software movement do not have any patents to trade.\n",
      "\n",
      "Much of the really useful software we use every day, programs like the Apache web server, the GNU/Linux operating system and the fearsomely popular Firefox browser, is developed outside company structures by people who do not have legal departments to check for patent infringements.\n",
      "\n",
      "The damage to software will not happen overnight, of course.\n",
      "\n",
      "If the directive goes through it has to be written into national laws and then there will be a steady stream of legal actions against small companies and open source products.\n",
      "\n",
      "Eventually someone will decide to attack Linux directly, probably with some secret funding from one or two large players.\n",
      "\n",
      "The new directive will limit innovation by forcing programmers to spend time checking for patent infringements or simply avoiding working in potentially competitive areas.\n",
      "\n",
      "And it will damage Europe's computer industry.\n",
      "\n",
      "We can only hope that the Council of Ministers has the integrity and strength to reject this bad law.\n",
      "\n",
      "Bill Thompson is a regular commentator on the BBC World Service programme Go Digital.\n"
     ]
    }
   ],
   "source": [
    "## PRINT THE ENTIRE DOCUMENT\n",
    "#------------------------------------------------------------\n",
    "print_single_document(docs[doc_index])"
   ]
  },
  {
   "cell_type": "code",
   "execution_count": 13,
   "id": "5e6781b6-f7da-4a33-8bd3-cefddcd3045e",
   "metadata": {},
   "outputs": [
    {
     "data": {
      "text/plain": [
       "['Be careful how you code\\n\\nA new European directive could put software writers at risk of legal action, warns former programmer and technology analyst Bill Thompson.',\n",
       " 'If it gets its way, the Dutch government will conclude its presidency of the European Union by pushing through a controversial measure that has been rejected by the European Parliament, lacks majority support from national governments and will leave millions of European citizens in legal limbo and facing the possibility of court cases against them.',\n",
       " 'If the new law was about border controls, defence or even the new constitution, then our TV screens would be full of experts agonising over the impact on our daily lives.',\n",
       " 'Sadly for those who will be directly affected, the controversy concerns the patenting of computer programs, a topic that may excite the bloggers, campaigning groups and technical press but does not obsess Middle Britain.',\n",
       " 'After all, how much fuss can you generate about the Directive on the Patentability of Computer-Implemented Inventions, and the way it amends Article 52 of the 1973 European Patent Convention?',\n",
       " \"Yet if the new directive is nodded through at the next meeting of one of the EU's ministerial councils, as seems likely, it will allow programs to be patented in Europe just as they are in the US.\",\n",
       " 'Many observers of the computing scene, including myself, think the results will be disastrous for small companies, innovative programmers and the free and open source software movement.',\n",
       " \"It will let large companies patent all sorts of ideas and give legal force to those who want to limit their competitors' use of really obvious ideas.\",\n",
       " 'In the US you cannot build a system that stores customer credit card details so that they can pay without having to re-enter them unless Amazon lets you, because they hold the patent on \"one-click\" online purchase.',\n",
       " 'It is a small invention, but Amazon made it to the patent office first and now owns it.',\n",
       " 'We are relatively free from this sort of thing over here, but perhaps not for long.',\n",
       " 'The new proposals go back to 2002, although argument about patentability of software and computer-implemented inventions has been going on since at least the mid-1980s.',\n",
       " 'They have come to a head now after a year in which proposals were made, endorsed by the Council of Ministers, radically modified by the European Parliament and then re-presented in their original form.',\n",
       " 'Some national governments seem to be aware of the problems.',\n",
       " \"Poland has rejected the proposal and Germany's main political parties have opposed it, but there is not enough opposition to guarantee their rejection.\",\n",
       " 'Early in December the British government held a consultation meeting with those who had commented on the proposals.',\n",
       " 'Science Minister Lord Sainsbury went along to listen and outline the UK position, but according to those present, it was embarrassing to see how little the minister and his officials actually understood the issues concerned.',\n",
       " 'The draft Directive is being put through the council as what is called an \"A\" item and can only be approved or rejected.',\n",
       " 'No discussion or amendment is allowed.',\n",
       " 'So why should we be worried?',\n",
       " 'First, there is the abuse of the democratic process involved in disregarding the views of the parliament and abandoning all of their carefully argued amendments.',\n",
       " 'This goes to the heart of the European project, and even those who do not care about software or patents should be worried.',\n",
       " 'If coders are treated like this today, who is to say that it will not be you tomorrow?',\n",
       " \"More directly, once software patents are granted then any programmer will have to worry that the code they are writing is infringing someone else's patent.\",\n",
       " 'This is not about stealing software, as code is already protected by copyright.',\n",
       " 'Patents are not copyright, but something much stronger.',\n",
       " 'A patent gives the owner the right to stop anyone else using their invention, even if the other person invented it separately.',\n",
       " \"I have never, to my shame, managed to read Lord Byron's Childe Harold's Pilgrimage.\",\n",
       " 'If it was pointed out that one of my articles contained a substantial chunk of the poem then I could defend myself in court by claiming that I had simply made it up and it was coincidence.',\n",
       " 'The same does not hold for a patent.',\n",
       " 'If I sit down this afternoon and write a brilliant graphics compression routine and it happens to be the same as the LZW algorithm used in GIF files, then I am in trouble under patent law, at least in the US.',\n",
       " 'Coincidence is no defence.',\n",
       " 'The proposed directive is supported by many of the major software companies, but this is hardly surprising since most of them are US-based and they have already had to cope with a legal environment that allows patents.',\n",
       " 'They have legal departments and, more crucially, patents of their own which they can trade or cross-license with other patent holders.',\n",
       " 'Even this system breaks down, of course, as Microsoft found out last year when they initially lost a case brought by Eolas which claimed that Internet Explorer (and other browsers) infringed an Eolas patent.',\n",
       " 'That one was eventually thrown out, but only after months of uncertainty and millions of dollars.',\n",
       " 'But small companies, and the free and open software movement do not have any patents to trade.',\n",
       " 'Much of the really useful software we use every day, programs like the Apache web server, the GNU/Linux operating system and the fearsomely popular Firefox browser, is developed outside company structures by people who do not have legal departments to check for patent infringements.',\n",
       " 'The damage to software will not happen overnight, of course.',\n",
       " 'If the directive goes through it has to be written into national laws and then there will be a steady stream of legal actions against small companies and open source products.',\n",
       " 'Eventually someone will decide to attack Linux directly, probably with some secret funding from one or two large players.',\n",
       " 'The new directive will limit innovation by forcing programmers to spend time checking for patent infringements or simply avoiding working in potentially competitive areas.',\n",
       " \"And it will damage Europe's computer industry.\",\n",
       " 'We can only hope that the Council of Ministers has the integrity and strength to reject this bad law.',\n",
       " 'Bill Thompson is a regular commentator on the BBC World Service programme Go Digital.']"
      ]
     },
     "execution_count": 13,
     "metadata": {},
     "output_type": "execute_result"
    }
   ],
   "source": [
    "docs[doc_index]"
   ]
  },
  {
   "cell_type": "code",
   "execution_count": 22,
   "id": "6a844290-7a05-4b60-8062-abdbe3ed0e95",
   "metadata": {},
   "outputs": [],
   "source": [
    "## SETUP SUMMARIZER\n",
    "#------------------------------------------------------------\n",
    "summarizer = TextRankSummarizer()\n",
    "parser = PlaintextParser.from_string(\n",
    "    docs[doc_index],\n",
    "    Tokenizer(\"english\"))"
   ]
  },
  {
   "cell_type": "code",
   "execution_count": 17,
   "id": "084fd24c-c5c9-40ae-bcf1-634c88474ffc",
   "metadata": {},
   "outputs": [],
   "source": [
    "## PRINT THE SUMMARIZED VERSION\n",
    "#------------------------------------------------------------\n",
    "num_sentences = 4\n",
    "summary = summarizer(parser.document, sentences_count = num_sentences)"
   ]
  },
  {
   "cell_type": "code",
   "execution_count": 20,
   "id": "282ddf01-a2c8-4a26-b646-3691a2907fac",
   "metadata": {},
   "outputs": [
    {
     "data": {
      "text/plain": [
       "(<Sentence: ', 'If it gets its way, the Dutch government will conclude its presidency of the European Union by pushing through a controversial measure that has been rejected by the European Parliament, lacks majority support from national governments and will leave millions of European citizens in legal limbo and facing the possibility of court cases against them.>,\n",
       " <Sentence: ', \"Yet if the new directive is nodded through at the next meeting of one of the EU's ministerial councils, as seems likely, it will allow programs to be patented in Europe just as they are in the US.>,\n",
       " <Sentence: ', 'First, there is the abuse of the democratic process involved in disregarding the views of the parliament and abandoning all of their carefully argued amendments.>,\n",
       " <Sentence: ', 'Much of the really useful software we use every day, programs like the Apache web server, the GNU/Linux operating system and the fearsomely popular Firefox browser, is developed outside company structures by people who do not have legal departments to check for patent infringements.>)"
      ]
     },
     "execution_count": 20,
     "metadata": {},
     "output_type": "execute_result"
    }
   ],
   "source": [
    "summary"
   ]
  },
  {
   "cell_type": "code",
   "execution_count": 19,
   "id": "3537ba03-91dd-472b-a40e-7851fa3241ec",
   "metadata": {},
   "outputs": [
    {
     "name": "stdout",
     "output_type": "stream",
     "text": [
      "', 'If it gets its way, the Dutch government will conclude its presidency of the European Union by pushing through a controversial measure that has been rejected by the European Parliament, lacks majority support from national governments and will leave millions of European citizens in legal limbo and facing the possibility of court cases against them.\n",
      "\n",
      "', \"Yet if the new directive is nodded through at the next meeting of one of the EU's ministerial councils, as seems likely, it will allow programs to be patented in Europe just as they are in the US.\n",
      "\n",
      "', 'First, there is the abuse of the democratic process involved in disregarding the views of the parliament and abandoning all of their carefully argued amendments.\n",
      "\n",
      "', 'Much of the really useful software we use every day, programs like the Apache web server, the GNU/Linux operating system and the fearsomely popular Firefox browser, is developed outside company structures by people who do not have legal departments to check for patent infringements.\n"
     ]
    }
   ],
   "source": [
    "print_single_document(summary)"
   ]
  }
 ],
 "metadata": {
  "kernelspec": {
   "display_name": "Python 3 (ipykernel)",
   "language": "python",
   "name": "python3"
  },
  "language_info": {
   "codemirror_mode": {
    "name": "ipython",
    "version": 3
   },
   "file_extension": ".py",
   "mimetype": "text/x-python",
   "name": "python",
   "nbconvert_exporter": "python",
   "pygments_lexer": "ipython3",
   "version": "3.10.9"
  }
 },
 "nbformat": 4,
 "nbformat_minor": 5
}
