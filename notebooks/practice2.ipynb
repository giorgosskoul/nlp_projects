{
 "cells": [
  {
   "cell_type": "code",
   "execution_count": 1,
   "id": "e1b1546f-1c0a-4fe2-b326-3e7239342738",
   "metadata": {},
   "outputs": [],
   "source": [
    "# Import Libraries (1)\n",
    "#-----------------------------------------------------------#\n",
    "\n",
    "## NLP ##\n",
    "import nltk\n",
    "from nltk import pos_tag, word_tokenize\n",
    "from nltk.stem import PorterStemmer, WordNetLemmatizer\n",
    "from nltk.corpus import wordnet, stopwords\n",
    "from collections import Counter\n",
    "## Data ##\n",
    "import numpy as np\n",
    "import pandas as pd\n",
    "import os\n",
    "import csv\n",
    "## ML ##\n",
    "from sklearn.feature_extraction.text import CountVectorizer\n",
    "from sklearn.naive_bayes import MultinomialNB\n",
    "from sklearn.model_selection import train_test_split"
   ]
  },
  {
   "cell_type": "code",
   "execution_count": 2,
   "id": "45b8d422-0d37-42e5-82b5-d3696defb4c8",
   "metadata": {},
   "outputs": [],
   "source": [
    "# CREATE CSV (ONE TIME ONLY)\n",
    "\n",
    "path='C:/Mydata/natural_language_processing/bbc/'\n",
    "folder_names = ['business', 'entertainment', 'politics', 'sport', 'tech']\n",
    "class_labels = [0, 1, 2, 3, 4]\n",
    "# List of possible encodings to try\n",
    "encodings_to_try = ['utf-8', 'latin-1', 'windows-1252']\n",
    "# Create or open the CSV file\n",
    "csv_filename = path+'document_classification.csv'\n",
    "with open(csv_filename, 'w', newline='') as csv_file:\n",
    "    csv_writer = csv.writer(csv_file)\n",
    "    csv_writer.writerow(['filename', 'class', 'text'])\n",
    "    # Loop through folders and files\n",
    "    for folder_name, class_label in zip(folder_names, class_labels):\n",
    "        folder_path = os.path.join(path + folder_name)\n",
    "        file_list = os.listdir(folder_path)\n",
    "        file_list.sort()\n",
    "        for file_name in file_list:\n",
    "            if file_name.endswith('.txt'):  # Consider only text files, adjust if needed\n",
    "                document_id = file_name.split('.')[0]\n",
    "                file_path = os.path.join(folder_path, file_name)\n",
    "                \n",
    "                # Try different encodings to read the file\n",
    "                for encoding in encodings_to_try:\n",
    "                    try:\n",
    "                        with open(file_path, 'r', encoding=encoding) as txt_file:\n",
    "                            file_content = txt_file.read()\n",
    "                        break  # Stop trying encodings if one works\n",
    "                    except UnicodeDecodeError:\n",
    "                        continue\n",
    "\n",
    "                csv_writer.writerow([document_id, class_label, file_content])"
   ]
  },
  {
   "cell_type": "code",
   "execution_count": 3,
   "id": "5014526d-ca12-4bd5-bef7-ed6845146dff",
   "metadata": {},
   "outputs": [
    {
     "data": {
      "text/html": [
       "<div>\n",
       "<style scoped>\n",
       "    .dataframe tbody tr th:only-of-type {\n",
       "        vertical-align: middle;\n",
       "    }\n",
       "\n",
       "    .dataframe tbody tr th {\n",
       "        vertical-align: top;\n",
       "    }\n",
       "\n",
       "    .dataframe thead th {\n",
       "        text-align: right;\n",
       "    }\n",
       "</style>\n",
       "<table border=\"1\" class=\"dataframe\">\n",
       "  <thead>\n",
       "    <tr style=\"text-align: right;\">\n",
       "      <th></th>\n",
       "      <th>filename</th>\n",
       "      <th>class</th>\n",
       "      <th>text</th>\n",
       "    </tr>\n",
       "  </thead>\n",
       "  <tbody>\n",
       "    <tr>\n",
       "      <th>0</th>\n",
       "      <td>1</td>\n",
       "      <td>0</td>\n",
       "      <td>Ad sales boost Time Warner profit\\n\\nQuarterly...</td>\n",
       "    </tr>\n",
       "    <tr>\n",
       "      <th>1</th>\n",
       "      <td>2</td>\n",
       "      <td>0</td>\n",
       "      <td>Dollar gains on Greenspan speech\\n\\nThe dollar...</td>\n",
       "    </tr>\n",
       "    <tr>\n",
       "      <th>2</th>\n",
       "      <td>3</td>\n",
       "      <td>0</td>\n",
       "      <td>Yukos unit buyer faces loan claim\\n\\nThe owner...</td>\n",
       "    </tr>\n",
       "    <tr>\n",
       "      <th>3</th>\n",
       "      <td>4</td>\n",
       "      <td>0</td>\n",
       "      <td>High fuel prices hit BA's profits\\n\\nBritish A...</td>\n",
       "    </tr>\n",
       "    <tr>\n",
       "      <th>4</th>\n",
       "      <td>5</td>\n",
       "      <td>0</td>\n",
       "      <td>Pernod takeover talk lifts Domecq\\n\\nShares in...</td>\n",
       "    </tr>\n",
       "  </tbody>\n",
       "</table>\n",
       "</div>"
      ],
      "text/plain": [
       "   filename  class                                               text\n",
       "0         1      0  Ad sales boost Time Warner profit\\n\\nQuarterly...\n",
       "1         2      0  Dollar gains on Greenspan speech\\n\\nThe dollar...\n",
       "2         3      0  Yukos unit buyer faces loan claim\\n\\nThe owner...\n",
       "3         4      0  High fuel prices hit BA's profits\\n\\nBritish A...\n",
       "4         5      0  Pernod takeover talk lifts Domecq\\n\\nShares in..."
      ]
     },
     "execution_count": 3,
     "metadata": {},
     "output_type": "execute_result"
    }
   ],
   "source": [
    "# Pandas DataFrame (2)\n",
    "#-----------------------------------------------------------#\n",
    "\n",
    "df=pd.read_csv(csv_filename,encoding='latin-1')\n",
    "inputs=df['text']\n",
    "labels=df['class']\n",
    "df.head()"
   ]
  },
  {
   "cell_type": "code",
   "execution_count": null,
   "id": "7b627497-7461-45a2-bcce-0103b00f902a",
   "metadata": {},
   "outputs": [],
   "source": [
    "labels.hist(figsize=(10,3))"
   ]
  },
  {
   "cell_type": "code",
   "execution_count": 4,
   "id": "635dd07e-58d1-4804-89a9-14813ee1e553",
   "metadata": {},
   "outputs": [],
   "source": [
    "# Datasets (3)\n",
    "#-----------------------------------------------------------#\n",
    "\n",
    "x_train, x_test, y_train, y_test = train_test_split(inputs, labels, random_state=10)\n",
    "vectorizer=CountVectorizer(stop_words='english')\n",
    "Xtrain=vectorizer.fit_transform(x_train)\n",
    "Xtest=vectorizer.transform(x_test)"
   ]
  },
  {
   "cell_type": "code",
   "execution_count": 59,
   "id": "e2d9a16c-e5dd-4060-95f2-1fb1399a1e18",
   "metadata": {},
   "outputs": [],
   "source": [
    "# Custom Classes (4)\n",
    "#-----------------------------------------------------------#\n",
    "class LemmaTokenizer:\n",
    "    def __init__(self):\n",
    "        self.wnl=WordNetLemmatizer()\n",
    "    def __call__(self, doc):\n",
    "        tokens=word_tokenize(doc)\n",
    "        words_and_tags=nltk.pos_tag(tokens)\n",
    "        return [self.wnl.lemmatize(word, pos=get_wordnet_pos(tag)) for word,tag in words_and_tags]\n",
    "\n",
    "class StemTokenizer:\n",
    "    def __init__(self):\n",
    "        self.porter=PorterStemmer()\n",
    "    def __call__(self, doc):\n",
    "        tokens=word_tokenize(doc)\n",
    "        return [self.porter.stem(word) for word in tokens]\n",
    "        \n",
    "# Custom Functions (5)\n",
    "#-----------------------------------------------------------#\n",
    "\n",
    "def get_wordnet_pos(treebank_tag):\n",
    "    if treebank_tag.startswith('J'):\n",
    "        return wordnet.ADJ\n",
    "    elif treebank_tag.startswith('V'):\n",
    "        return wordnet.VERB\n",
    "    elif treebank_tag.startswith('N'):\n",
    "        return wordnet.NOUN\n",
    "    elif treebank_tag.startswith('R'):\n",
    "        return wordnet.ADV\n",
    "    else:\n",
    "        return wordnet.NOUN"
   ]
  },
  {
   "cell_type": "code",
   "execution_count": 60,
   "id": "80b26395-9e63-48af-9a26-2787e8af74dc",
   "metadata": {},
   "outputs": [
    {
     "name": "stderr",
     "output_type": "stream",
     "text": [
      "C:\\miniconda3\\envs\\env1\\lib\\site-packages\\sklearn\\feature_extraction\\text.py:528: UserWarning: The parameter 'token_pattern' will not be used since 'tokenizer' is not None'\n",
      "  warnings.warn(\n",
      "C:\\miniconda3\\envs\\env1\\lib\\site-packages\\sklearn\\feature_extraction\\text.py:409: UserWarning: Your stop_words may be inconsistent with your preprocessing. Tokenizing the stop words generated tokens ['abov', 'afterward', 'alon', 'alreadi', 'alway', 'ani', 'anoth', 'anyon', 'anyth', 'anywher', 'becam', 'becaus', 'becom', 'befor', 'besid', 'cri', 'describ', 'dure', 'els', 'elsewher', 'empti', 'everi', 'everyon', 'everyth', 'everywher', 'fifti', 'formerli', 'forti', 'ha', 'henc', 'hereaft', 'herebi', 'hi', 'howev', 'hundr', 'inde', 'latterli', 'mani', 'meanwhil', 'moreov', 'mostli', 'nobodi', 'noon', 'noth', 'nowher', 'onc', 'onli', 'otherwis', 'ourselv', 'perhap', 'pleas', 'seriou', 'sever', 'sinc', 'sincer', 'sixti', 'someon', 'someth', 'sometim', 'somewher', 'themselv', 'thenc', 'thereaft', 'therebi', 'therefor', 'thi', 'thu', 'togeth', 'twelv', 'twenti', 'veri', 'wa', 'whatev', 'whenc', 'whenev', 'wherea', 'whereaft', 'wherebi', 'wherev', 'whi', 'yourselv'] not in stop_words.\n",
      "  warnings.warn(\n"
     ]
    },
    {
     "name": "stdout",
     "output_type": "stream",
     "text": [
      "train score =  0.9928057553956835\n",
      "test score =  0.9838420107719928\n"
     ]
    }
   ],
   "source": [
    "# Model (6)\n",
    "#-----------------------------------------------------------#\n",
    "\n",
    "x_train, x_test, y_train, y_test = train_test_split(inputs, labels, random_state=10)\n",
    "vectorizer=CountVectorizer(tokenizer=StemTokenizer(),stop_words='english',lowercase=True)\n",
    "Xtrain=vectorizer.fit_transform(x_train)\n",
    "Xtest=vectorizer.transform(x_test)\n",
    "model=MultinomialNB()\n",
    "model.fit(Xtrain,y_train)\n",
    "print(\"train score = \", model.score(Xtrain,y_train))\n",
    "print(\"test score = \", model.score(Xtest,y_test))"
   ]
  },
  {
   "cell_type": "code",
   "execution_count": 84,
   "id": "31bceb3a-23d9-4e75-8dfd-ff12abd352f2",
   "metadata": {},
   "outputs": [],
   "source": [
    "# NLP Predetermined Methods (3)\n",
    "#-----------------------------------------------------------#\n",
    "\n",
    "stop_words = set(stopwords.words(\"english\"))\n",
    "lemmatizer = WordNetLemmatizer()\n",
    "sentences = text.split(\".\")\n",
    "lemmatized_sentences = []\n",
    "lemmatized_words=[]\n",
    "lemmatized_sentences=[]"
   ]
  },
  {
   "cell_type": "code",
   "execution_count": 89,
   "id": "97996d13-d39e-451a-bc47-bf0a080913e8",
   "metadata": {},
   "outputs": [],
   "source": [
    "# MAIN CODE (5)\n",
    "#-----------------------------------------------------------#\n",
    "\n",
    "for token in sentences:\n",
    "    words = token.split(\" \")\n",
    "    lemmatized_words.extend([lemmatizer.lemmatize(word.lower(), pos=get_wordnet_pos(tag))\n",
    "                             for word, tag in pos_tag(words) if word.lower() not in stop_words])\n",
    "    lemmatized_sentences.append(\" \".join(lemmatized_words))\n",
    "    \n",
    "lemmatized_text = \". \".join(lemmatized_sentences)\n",
    "lemmatized_words = lemmatized_text.split()\n",
    "print(Counter(pos_tag(lemmatized_words)))"
   ]
  }
 ],
 "metadata": {
  "kernelspec": {
   "display_name": "Python 3 (ipykernel)",
   "language": "python",
   "name": "python3"
  },
  "language_info": {
   "codemirror_mode": {
    "name": "ipython",
    "version": 3
   },
   "file_extension": ".py",
   "mimetype": "text/x-python",
   "name": "python",
   "nbconvert_exporter": "python",
   "pygments_lexer": "ipython3",
   "version": "3.10.9"
  }
 },
 "nbformat": 4,
 "nbformat_minor": 5
}
